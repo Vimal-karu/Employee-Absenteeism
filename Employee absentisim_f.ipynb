{
 "cells": [
  {
   "cell_type": "code",
   "execution_count": 1,
   "metadata": {},
   "outputs": [
    {
     "name": "stderr",
     "output_type": "stream",
     "text": [
      "Using TensorFlow backend.\n"
     ]
    }
   ],
   "source": [
    "#Load libraries \n",
    "import os\n",
    "import pandas as pd \n",
    "import numpy as np \n",
    "import fancyimpute \n",
    "import matplotlib.pyplot as plt \n",
    "from scipy.stats import chi2_contingency \n",
    "import seaborn as sns\n",
    "from random import randrange, uniform "
   ]
  },
  {
   "cell_type": "code",
   "execution_count": 2,
   "metadata": {},
   "outputs": [],
   "source": [
    "from fancyimpute import KNN"
   ]
  },
  {
   "cell_type": "code",
   "execution_count": 3,
   "metadata": {},
   "outputs": [],
   "source": [
    "from scipy import stats"
   ]
  },
  {
   "cell_type": "code",
   "execution_count": 4,
   "metadata": {},
   "outputs": [],
   "source": [
    "from sklearn import tree\n",
    "from sklearn.model_selection import train_test_split\n",
    "from sklearn.tree import DecisionTreeRegressor\n",
    "from sklearn.metrics import mean_squared_error\n",
    "from math import sqrt"
   ]
  },
  {
   "cell_type": "code",
   "execution_count": 5,
   "metadata": {},
   "outputs": [],
   "source": [
    "import statsmodels.api as sm # libary for linear regression "
   ]
  },
  {
   "cell_type": "code",
   "execution_count": 6,
   "metadata": {},
   "outputs": [],
   "source": [
    "#Set working directory\n",
    "os.chdir(\"D:\\Data Scientist\\Project\\Employee Absenteeism\")"
   ]
  },
  {
   "cell_type": "code",
   "execution_count": 7,
   "metadata": {},
   "outputs": [],
   "source": [
    "#Load data \n",
    "emp = pd.read_excel(\"Absenteeism_at_work_Project.xls\")"
   ]
  },
  {
   "cell_type": "code",
   "execution_count": 8,
   "metadata": {},
   "outputs": [
    {
     "data": {
      "text/plain": [
       "ID                                   int64\n",
       "Reason for absence                 float64\n",
       "Month of absence                   float64\n",
       "Day of the week                      int64\n",
       "Seasons                              int64\n",
       "Transportation expense             float64\n",
       "Distance from Residence to Work    float64\n",
       "Service time                       float64\n",
       "Age                                float64\n",
       "Work load Average/day              float64\n",
       "Hit target                         float64\n",
       "Disciplinary failure               float64\n",
       "Education                          float64\n",
       "Son                                float64\n",
       "Social drinker                     float64\n",
       "Social smoker                      float64\n",
       "Pet                                float64\n",
       "Weight                             float64\n",
       "Height                             float64\n",
       "Body mass index                    float64\n",
       "Absenteeism time in hours          float64\n",
       "dtype: object"
      ]
     },
     "execution_count": 8,
     "metadata": {},
     "output_type": "execute_result"
    }
   ],
   "source": [
    "emp.dtypes"
   ]
  },
  {
   "cell_type": "code",
   "execution_count": 9,
   "metadata": {},
   "outputs": [
    {
     "data": {
      "text/html": [
       "<div>\n",
       "<style scoped>\n",
       "    .dataframe tbody tr th:only-of-type {\n",
       "        vertical-align: middle;\n",
       "    }\n",
       "\n",
       "    .dataframe tbody tr th {\n",
       "        vertical-align: top;\n",
       "    }\n",
       "\n",
       "    .dataframe thead th {\n",
       "        text-align: right;\n",
       "    }\n",
       "</style>\n",
       "<table border=\"1\" class=\"dataframe\">\n",
       "  <thead>\n",
       "    <tr style=\"text-align: right;\">\n",
       "      <th></th>\n",
       "      <th>ID</th>\n",
       "      <th>Reason for absence</th>\n",
       "      <th>Month of absence</th>\n",
       "      <th>Day of the week</th>\n",
       "      <th>Seasons</th>\n",
       "      <th>Transportation expense</th>\n",
       "      <th>Distance from Residence to Work</th>\n",
       "      <th>Service time</th>\n",
       "      <th>Age</th>\n",
       "      <th>Work load Average/day</th>\n",
       "      <th>...</th>\n",
       "      <th>Disciplinary failure</th>\n",
       "      <th>Education</th>\n",
       "      <th>Son</th>\n",
       "      <th>Social drinker</th>\n",
       "      <th>Social smoker</th>\n",
       "      <th>Pet</th>\n",
       "      <th>Weight</th>\n",
       "      <th>Height</th>\n",
       "      <th>Body mass index</th>\n",
       "      <th>Absenteeism time in hours</th>\n",
       "    </tr>\n",
       "  </thead>\n",
       "  <tbody>\n",
       "    <tr>\n",
       "      <th>0</th>\n",
       "      <td>11</td>\n",
       "      <td>26.0</td>\n",
       "      <td>7.0</td>\n",
       "      <td>3</td>\n",
       "      <td>1</td>\n",
       "      <td>289.0</td>\n",
       "      <td>36.0</td>\n",
       "      <td>13.0</td>\n",
       "      <td>33.0</td>\n",
       "      <td>239554.0</td>\n",
       "      <td>...</td>\n",
       "      <td>0.0</td>\n",
       "      <td>1.0</td>\n",
       "      <td>2.0</td>\n",
       "      <td>1.0</td>\n",
       "      <td>0.0</td>\n",
       "      <td>1.0</td>\n",
       "      <td>90.0</td>\n",
       "      <td>172.0</td>\n",
       "      <td>30.0</td>\n",
       "      <td>4.0</td>\n",
       "    </tr>\n",
       "    <tr>\n",
       "      <th>1</th>\n",
       "      <td>36</td>\n",
       "      <td>0.0</td>\n",
       "      <td>7.0</td>\n",
       "      <td>3</td>\n",
       "      <td>1</td>\n",
       "      <td>118.0</td>\n",
       "      <td>13.0</td>\n",
       "      <td>18.0</td>\n",
       "      <td>50.0</td>\n",
       "      <td>239554.0</td>\n",
       "      <td>...</td>\n",
       "      <td>1.0</td>\n",
       "      <td>1.0</td>\n",
       "      <td>1.0</td>\n",
       "      <td>1.0</td>\n",
       "      <td>0.0</td>\n",
       "      <td>0.0</td>\n",
       "      <td>98.0</td>\n",
       "      <td>178.0</td>\n",
       "      <td>31.0</td>\n",
       "      <td>0.0</td>\n",
       "    </tr>\n",
       "    <tr>\n",
       "      <th>2</th>\n",
       "      <td>3</td>\n",
       "      <td>23.0</td>\n",
       "      <td>7.0</td>\n",
       "      <td>4</td>\n",
       "      <td>1</td>\n",
       "      <td>179.0</td>\n",
       "      <td>51.0</td>\n",
       "      <td>18.0</td>\n",
       "      <td>38.0</td>\n",
       "      <td>239554.0</td>\n",
       "      <td>...</td>\n",
       "      <td>0.0</td>\n",
       "      <td>1.0</td>\n",
       "      <td>0.0</td>\n",
       "      <td>1.0</td>\n",
       "      <td>0.0</td>\n",
       "      <td>0.0</td>\n",
       "      <td>89.0</td>\n",
       "      <td>170.0</td>\n",
       "      <td>31.0</td>\n",
       "      <td>2.0</td>\n",
       "    </tr>\n",
       "    <tr>\n",
       "      <th>3</th>\n",
       "      <td>7</td>\n",
       "      <td>7.0</td>\n",
       "      <td>7.0</td>\n",
       "      <td>5</td>\n",
       "      <td>1</td>\n",
       "      <td>279.0</td>\n",
       "      <td>5.0</td>\n",
       "      <td>14.0</td>\n",
       "      <td>39.0</td>\n",
       "      <td>239554.0</td>\n",
       "      <td>...</td>\n",
       "      <td>0.0</td>\n",
       "      <td>1.0</td>\n",
       "      <td>2.0</td>\n",
       "      <td>1.0</td>\n",
       "      <td>1.0</td>\n",
       "      <td>0.0</td>\n",
       "      <td>68.0</td>\n",
       "      <td>168.0</td>\n",
       "      <td>24.0</td>\n",
       "      <td>4.0</td>\n",
       "    </tr>\n",
       "    <tr>\n",
       "      <th>4</th>\n",
       "      <td>11</td>\n",
       "      <td>23.0</td>\n",
       "      <td>7.0</td>\n",
       "      <td>5</td>\n",
       "      <td>1</td>\n",
       "      <td>289.0</td>\n",
       "      <td>36.0</td>\n",
       "      <td>13.0</td>\n",
       "      <td>33.0</td>\n",
       "      <td>239554.0</td>\n",
       "      <td>...</td>\n",
       "      <td>0.0</td>\n",
       "      <td>1.0</td>\n",
       "      <td>2.0</td>\n",
       "      <td>1.0</td>\n",
       "      <td>0.0</td>\n",
       "      <td>1.0</td>\n",
       "      <td>90.0</td>\n",
       "      <td>172.0</td>\n",
       "      <td>30.0</td>\n",
       "      <td>2.0</td>\n",
       "    </tr>\n",
       "  </tbody>\n",
       "</table>\n",
       "<p>5 rows × 21 columns</p>\n",
       "</div>"
      ],
      "text/plain": [
       "   ID  Reason for absence  Month of absence  Day of the week  Seasons  \\\n",
       "0  11                26.0               7.0                3        1   \n",
       "1  36                 0.0               7.0                3        1   \n",
       "2   3                23.0               7.0                4        1   \n",
       "3   7                 7.0               7.0                5        1   \n",
       "4  11                23.0               7.0                5        1   \n",
       "\n",
       "   Transportation expense  Distance from Residence to Work  Service time  \\\n",
       "0                   289.0                             36.0          13.0   \n",
       "1                   118.0                             13.0          18.0   \n",
       "2                   179.0                             51.0          18.0   \n",
       "3                   279.0                              5.0          14.0   \n",
       "4                   289.0                             36.0          13.0   \n",
       "\n",
       "    Age  Work load Average/day             ...              \\\n",
       "0  33.0                239554.0            ...               \n",
       "1  50.0                239554.0            ...               \n",
       "2  38.0                239554.0            ...               \n",
       "3  39.0                239554.0            ...               \n",
       "4  33.0                239554.0            ...               \n",
       "\n",
       "   Disciplinary failure  Education  Son  Social drinker  Social smoker  Pet  \\\n",
       "0                   0.0        1.0  2.0             1.0            0.0  1.0   \n",
       "1                   1.0        1.0  1.0             1.0            0.0  0.0   \n",
       "2                   0.0        1.0  0.0             1.0            0.0  0.0   \n",
       "3                   0.0        1.0  2.0             1.0            1.0  0.0   \n",
       "4                   0.0        1.0  2.0             1.0            0.0  1.0   \n",
       "\n",
       "   Weight  Height  Body mass index  Absenteeism time in hours  \n",
       "0    90.0   172.0             30.0                        4.0  \n",
       "1    98.0   178.0             31.0                        0.0  \n",
       "2    89.0   170.0             31.0                        2.0  \n",
       "3    68.0   168.0             24.0                        4.0  \n",
       "4    90.0   172.0             30.0                        2.0  \n",
       "\n",
       "[5 rows x 21 columns]"
      ]
     },
     "execution_count": 9,
     "metadata": {},
     "output_type": "execute_result"
    }
   ],
   "source": [
    "emp.head()"
   ]
  },
  {
   "cell_type": "code",
   "execution_count": 10,
   "metadata": {},
   "outputs": [],
   "source": [
    "# From the EDA and problem statement file categorising the variables in two category \" Continuos\" and \"Categorical\"\n",
    "continuous_vars = ['Distance from Residence to Work', 'Service time', 'Age', 'Work load Average/day ', 'Transportation expense',\n",
    "       'Hit target', 'Weight', 'Height', 'Body mass index', 'Absenteeism time in hours']\n",
    "\n",
    "categorical_vars = ['ID','Reason for absence','Month of absence','Day of the week',\n",
    "                     'Seasons','Disciplinary failure', 'Education', 'Social drinker',\n",
    "                     'Social smoker', 'Pet', 'Son']"
   ]
  },
  {
   "cell_type": "markdown",
   "metadata": {},
   "source": [
    "# Missing value analysis "
   ]
  },
  {
   "cell_type": "code",
   "execution_count": 11,
   "metadata": {},
   "outputs": [],
   "source": [
    "#create a dataframe with missing value percentage \n",
    "\n",
    "missing_val = pd.DataFrame(emp.isnull().sum())"
   ]
  },
  {
   "cell_type": "code",
   "execution_count": 12,
   "metadata": {},
   "outputs": [
    {
     "data": {
      "text/html": [
       "<div>\n",
       "<style scoped>\n",
       "    .dataframe tbody tr th:only-of-type {\n",
       "        vertical-align: middle;\n",
       "    }\n",
       "\n",
       "    .dataframe tbody tr th {\n",
       "        vertical-align: top;\n",
       "    }\n",
       "\n",
       "    .dataframe thead th {\n",
       "        text-align: right;\n",
       "    }\n",
       "</style>\n",
       "<table border=\"1\" class=\"dataframe\">\n",
       "  <thead>\n",
       "    <tr style=\"text-align: right;\">\n",
       "      <th></th>\n",
       "      <th>0</th>\n",
       "    </tr>\n",
       "  </thead>\n",
       "  <tbody>\n",
       "    <tr>\n",
       "      <th>ID</th>\n",
       "      <td>0</td>\n",
       "    </tr>\n",
       "    <tr>\n",
       "      <th>Reason for absence</th>\n",
       "      <td>3</td>\n",
       "    </tr>\n",
       "    <tr>\n",
       "      <th>Month of absence</th>\n",
       "      <td>1</td>\n",
       "    </tr>\n",
       "    <tr>\n",
       "      <th>Day of the week</th>\n",
       "      <td>0</td>\n",
       "    </tr>\n",
       "    <tr>\n",
       "      <th>Seasons</th>\n",
       "      <td>0</td>\n",
       "    </tr>\n",
       "    <tr>\n",
       "      <th>Transportation expense</th>\n",
       "      <td>7</td>\n",
       "    </tr>\n",
       "    <tr>\n",
       "      <th>Distance from Residence to Work</th>\n",
       "      <td>3</td>\n",
       "    </tr>\n",
       "    <tr>\n",
       "      <th>Service time</th>\n",
       "      <td>3</td>\n",
       "    </tr>\n",
       "    <tr>\n",
       "      <th>Age</th>\n",
       "      <td>3</td>\n",
       "    </tr>\n",
       "    <tr>\n",
       "      <th>Work load Average/day</th>\n",
       "      <td>10</td>\n",
       "    </tr>\n",
       "    <tr>\n",
       "      <th>Hit target</th>\n",
       "      <td>6</td>\n",
       "    </tr>\n",
       "    <tr>\n",
       "      <th>Disciplinary failure</th>\n",
       "      <td>6</td>\n",
       "    </tr>\n",
       "    <tr>\n",
       "      <th>Education</th>\n",
       "      <td>10</td>\n",
       "    </tr>\n",
       "    <tr>\n",
       "      <th>Son</th>\n",
       "      <td>6</td>\n",
       "    </tr>\n",
       "    <tr>\n",
       "      <th>Social drinker</th>\n",
       "      <td>3</td>\n",
       "    </tr>\n",
       "    <tr>\n",
       "      <th>Social smoker</th>\n",
       "      <td>4</td>\n",
       "    </tr>\n",
       "    <tr>\n",
       "      <th>Pet</th>\n",
       "      <td>2</td>\n",
       "    </tr>\n",
       "    <tr>\n",
       "      <th>Weight</th>\n",
       "      <td>1</td>\n",
       "    </tr>\n",
       "    <tr>\n",
       "      <th>Height</th>\n",
       "      <td>14</td>\n",
       "    </tr>\n",
       "    <tr>\n",
       "      <th>Body mass index</th>\n",
       "      <td>31</td>\n",
       "    </tr>\n",
       "    <tr>\n",
       "      <th>Absenteeism time in hours</th>\n",
       "      <td>22</td>\n",
       "    </tr>\n",
       "  </tbody>\n",
       "</table>\n",
       "</div>"
      ],
      "text/plain": [
       "                                  0\n",
       "ID                                0\n",
       "Reason for absence                3\n",
       "Month of absence                  1\n",
       "Day of the week                   0\n",
       "Seasons                           0\n",
       "Transportation expense            7\n",
       "Distance from Residence to Work   3\n",
       "Service time                      3\n",
       "Age                               3\n",
       "Work load Average/day            10\n",
       "Hit target                        6\n",
       "Disciplinary failure              6\n",
       "Education                        10\n",
       "Son                               6\n",
       "Social drinker                    3\n",
       "Social smoker                     4\n",
       "Pet                               2\n",
       "Weight                            1\n",
       "Height                           14\n",
       "Body mass index                  31\n",
       "Absenteeism time in hours        22"
      ]
     },
     "execution_count": 12,
     "metadata": {},
     "output_type": "execute_result"
    }
   ],
   "source": [
    "missing_val"
   ]
  },
  {
   "cell_type": "code",
   "execution_count": 13,
   "metadata": {},
   "outputs": [],
   "source": [
    "#Reset index\n",
    "missing_val = missing_val.reset_index()"
   ]
  },
  {
   "cell_type": "code",
   "execution_count": 14,
   "metadata": {},
   "outputs": [],
   "source": [
    "#Rename variable\n",
    "missing_val = missing_val.rename(columns = {'index': 'Variables', 0: 'Missing_percentage'})"
   ]
  },
  {
   "cell_type": "code",
   "execution_count": 15,
   "metadata": {},
   "outputs": [],
   "source": [
    "#Calculate percentage\n",
    "missing_val['Missing_percentage'] = (missing_val['Missing_percentage']/len(emp))*100"
   ]
  },
  {
   "cell_type": "code",
   "execution_count": 16,
   "metadata": {},
   "outputs": [],
   "source": [
    "#descending order\n",
    "missing_val = missing_val.sort_values('Missing_percentage', ascending = False).reset_index(drop = True)"
   ]
  },
  {
   "cell_type": "code",
   "execution_count": 17,
   "metadata": {},
   "outputs": [],
   "source": [
    "#save output results \n",
    "missing_val.to_csv(\"Miising_perc_py.csv\", index = False)"
   ]
  },
  {
   "cell_type": "markdown",
   "metadata": {},
   "source": [
    "# Imputing missing value "
   ]
  },
  {
   "cell_type": "code",
   "execution_count": 18,
   "metadata": {},
   "outputs": [],
   "source": [
    "# emp['Body mass index'].loc[22] = np.nan"
   ]
  },
  {
   "cell_type": "code",
   "execution_count": 19,
   "metadata": {},
   "outputs": [],
   "source": [
    "# emp['Body mass index'].loc[22]\n"
   ]
  },
  {
   "cell_type": "code",
   "execution_count": 20,
   "metadata": {},
   "outputs": [],
   "source": [
    "#Impute with mean\n",
    "# emp['Body mass index'] = emp['Body mass index'].fillna(emp['Body mass index'].mean())\n"
   ]
  },
  {
   "cell_type": "code",
   "execution_count": 21,
   "metadata": {},
   "outputs": [],
   "source": [
    "# Impute with median \n",
    "# emp['Body mass index'] = emp['Body mass index'].fillna(emp['Body mass index'].median())"
   ]
  },
  {
   "cell_type": "code",
   "execution_count": 22,
   "metadata": {},
   "outputs": [
    {
     "name": "stdout",
     "output_type": "stream",
     "text": [
      "Imputing row 1/740 with 0 missing, elapsed time: 0.867\n",
      "Imputing row 101/740 with 1 missing, elapsed time: 0.903\n",
      "Imputing row 201/740 with 0 missing, elapsed time: 0.907\n",
      "Imputing row 301/740 with 0 missing, elapsed time: 0.910\n",
      "Imputing row 401/740 with 0 missing, elapsed time: 0.912\n",
      "Imputing row 501/740 with 0 missing, elapsed time: 0.914\n",
      "Imputing row 601/740 with 0 missing, elapsed time: 0.916\n",
      "Imputing row 701/740 with 0 missing, elapsed time: 0.917\n"
     ]
    }
   ],
   "source": [
    "# Apply KNN imputation \n",
    "emp = pd.DataFrame(KNN(k = 3).fit_transform(emp), columns = emp.columns)"
   ]
  },
  {
   "cell_type": "code",
   "execution_count": 23,
   "metadata": {},
   "outputs": [],
   "source": [
    "missing_val = pd.DataFrame(emp.isnull().sum())"
   ]
  },
  {
   "cell_type": "code",
   "execution_count": 24,
   "metadata": {},
   "outputs": [
    {
     "data": {
      "text/plain": [
       "ID                                 0\n",
       "Reason for absence                 0\n",
       "Month of absence                   0\n",
       "Day of the week                    0\n",
       "Seasons                            0\n",
       "Transportation expense             0\n",
       "Distance from Residence to Work    0\n",
       "Service time                       0\n",
       "Age                                0\n",
       "Work load Average/day              0\n",
       "Hit target                         0\n",
       "Disciplinary failure               0\n",
       "Education                          0\n",
       "Son                                0\n",
       "Social drinker                     0\n",
       "Social smoker                      0\n",
       "Pet                                0\n",
       "Weight                             0\n",
       "Height                             0\n",
       "Body mass index                    0\n",
       "Absenteeism time in hours          0\n",
       "dtype: int64"
      ]
     },
     "execution_count": 24,
     "metadata": {},
     "output_type": "execute_result"
    }
   ],
   "source": [
    "emp.isnull().sum()"
   ]
  },
  {
   "cell_type": "markdown",
   "metadata": {},
   "source": [
    "# Outlier Aalysis \n"
   ]
  },
  {
   "cell_type": "code",
   "execution_count": 25,
   "metadata": {},
   "outputs": [
    {
     "data": {
      "text/plain": [
       "Text(0, 0.5, 'Values')"
      ]
     },
     "execution_count": 25,
     "metadata": {},
     "output_type": "execute_result"
    },
    {
     "data": {
      "image/png": "[encoded data removed]",
      "text/plain": [
       "<Figure size 432x288 with 1 Axes>"
      ]
     },
     "metadata": {
      "needs_background": "light"
     },
     "output_type": "display_data"
    }
   ],
   "source": [
    "plt.boxplot(emp['Distance from Residence to Work'])\n",
    "plt.xlabel(\"Distance from Residence to Work\")\n",
    "plt.title(\"BoxPlot of Variable for 'Distance from Residence to Work'\")\n",
    "plt.ylabel('Values')"
   ]
  },
  {
   "cell_type": "code",
   "execution_count": 26,
   "metadata": {},
   "outputs": [
    {
     "data": {
      "text/plain": [
       "Text(0, 0.5, 'Values')"
      ]
     },
     "execution_count": 26,
     "metadata": {},
     "output_type": "execute_result"
    },
    {
     "data": {
      "image/png": "[encoded data removed]",
      "text/plain": [
       "<Figure size 432x288 with 1 Axes>"
      ]
     },
     "metadata": {
      "needs_background": "light"
     },
     "output_type": "display_data"
    }
   ],
   "source": [
    "plt.boxplot(emp['Service time'])\n",
    "plt.xlabel(\"Service time\")\n",
    "plt.title(\"BoxPlot of Variable for 'Service time'\")\n",
    "plt.ylabel('Values')"
   ]
  },
  {
   "cell_type": "code",
   "execution_count": 27,
   "metadata": {},
   "outputs": [
    {
     "data": {
      "text/plain": [
       "Text(0, 0.5, 'Values')"
      ]
     },
     "execution_count": 27,
     "metadata": {},
     "output_type": "execute_result"
    },
    {
     "data": {
      "image/png": "[encoded data removed]",
      "text/plain": [
       "<Figure size 432x288 with 1 Axes>"
      ]
     },
     "metadata": {
      "needs_background": "light"
     },
     "output_type": "display_data"
    }
   ],
   "source": [
    "plt.boxplot(emp['Age'])\n",
    "plt.xlabel(\"Age\")\n",
    "plt.title(\"BoxPlot of Variable for 'Age'\")\n",
    "plt.ylabel('Values')"
   ]
  },
  {
   "cell_type": "code",
   "execution_count": 28,
   "metadata": {},
   "outputs": [
    {
     "data": {
      "text/plain": [
       "Text(0, 0.5, 'Values')"
      ]
     },
     "execution_count": 28,
     "metadata": {},
     "output_type": "execute_result"
    },
    {
     "data": {
      "image/png": "[encoded data removed]",
      "text/plain": [
       "<Figure size 432x288 with 1 Axes>"
      ]
     },
     "metadata": {
      "needs_background": "light"
     },
     "output_type": "display_data"
    }
   ],
   "source": [
    "plt.boxplot(emp['Work load Average/day '])\n",
    "plt.xlabel(\"Work load Average/day \")\n",
    "plt.title(\"BoxPlot of Variable 'Work load Average/day '\")\n",
    "plt.ylabel('Values')"
   ]
  },
  {
   "cell_type": "code",
   "execution_count": 29,
   "metadata": {},
   "outputs": [
    {
     "data": {
      "text/plain": [
       "Text(0, 0.5, 'Values')"
      ]
     },
     "execution_count": 29,
     "metadata": {},
     "output_type": "execute_result"
    },
    {
     "data": {
      "image/png": "[encoded data removed]",
      "text/plain": [
       "<Figure size 432x288 with 1 Axes>"
      ]
     },
     "metadata": {
      "needs_background": "light"
     },
     "output_type": "display_data"
    }
   ],
   "source": [
    "plt.boxplot([ emp['Transportation expense'],emp['Hit target'], emp['Weight'] ])\n",
    "plt.xlabel(\"'1.Transportation expense', '2.Hit target', '3.Weight'\")\n",
    "plt.title(\"BoxPlot of Variable for Transportation expense, Hit target and Weight\")\n",
    "plt.ylabel('Values')"
   ]
  },
  {
   "cell_type": "code",
   "execution_count": 30,
   "metadata": {},
   "outputs": [
    {
     "data": {
      "text/plain": [
       "Text(0, 0.5, 'Values')"
      ]
     },
     "execution_count": 30,
     "metadata": {},
     "output_type": "execute_result"
    },
    {
     "data": {
      "image/png": "[encoded data removed]",
      "text/plain": [
       "<Figure size 432x288 with 1 Axes>"
      ]
     },
     "metadata": {
      "needs_background": "light"
     },
     "output_type": "display_data"
    }
   ],
   "source": [
    "plt.boxplot([ emp['Height'], emp['Body mass index'] ])\n",
    "plt.xlabel(['1. Height ', '2. Body mass index'])\n",
    "plt.title(\"BoxPlot of rest of the Variables Height and Body mass index\")\n",
    "plt.ylabel('Values')"
   ]
  },
  {
   "cell_type": "code",
   "execution_count": 31,
   "metadata": {},
   "outputs": [],
   "source": [
    "# From the above boxplot we can clearly see that in variables 'Distance from Residence to Work','Hit target' 'Weight' and 'Body mass index'\n",
    "# there is no outlier"
   ]
  },
  {
   "cell_type": "code",
   "execution_count": 32,
   "metadata": {},
   "outputs": [],
   "source": [
    "# list of variables which doesn't have outlier\n",
    "ignore = ['Distance from Residence to Work','Hit target' 'Weight', 'Body mass index']"
   ]
  },
  {
   "cell_type": "code",
   "execution_count": 33,
   "metadata": {},
   "outputs": [],
   "source": [
    "# Looping over all continuou variables to detect and remove Outliers\n",
    "for i in continuous_vars:\n",
    "    # Avoiding the variables which doesn't have outlier\n",
    "    if i in ignore:\n",
    "        continue\n",
    "    # Getting 75 and 25 percentile of variable \"i\"\n",
    "    q75, q25 = np.percentile(emp[i], [75,25])\n",
    "    # Calculating Interquartile range\n",
    "    iqr = q75 - q25"
   ]
  },
  {
   "cell_type": "code",
   "execution_count": 34,
   "metadata": {},
   "outputs": [],
   "source": [
    "# Calculating upper extream and lower extream\n",
    "    minimum = q25 - (iqr*1.5)\n",
    "    maximum = q75 + (iqr*1.5)"
   ]
  },
  {
   "cell_type": "code",
   "execution_count": 35,
   "metadata": {},
   "outputs": [],
   "source": [
    "# Replacing all the outliers value to NA\n",
    "    emp.loc[emp[i]< minimum,i] = np.nan\n",
    "    emp.loc[emp[i]> maximum,i] = np.nan"
   ]
  },
  {
   "cell_type": "code",
   "execution_count": 36,
   "metadata": {},
   "outputs": [
    {
     "name": "stdout",
     "output_type": "stream",
     "text": [
      "Imputing row 1/740 with 0 missing, elapsed time: 0.290\n",
      "Imputing row 101/740 with 0 missing, elapsed time: 0.292\n",
      "Imputing row 201/740 with 0 missing, elapsed time: 0.293\n",
      "Imputing row 301/740 with 0 missing, elapsed time: 0.295\n",
      "Imputing row 401/740 with 0 missing, elapsed time: 0.296\n",
      "Imputing row 501/740 with 0 missing, elapsed time: 0.297\n",
      "Imputing row 601/740 with 0 missing, elapsed time: 0.298\n",
      "Imputing row 701/740 with 0 missing, elapsed time: 0.300\n"
     ]
    }
   ],
   "source": [
    "# Imputing missing values with KNN\n",
    "emp = pd.DataFrame(KNN(k = 3).fit_transform(emp), columns = emp.columns)"
   ]
  },
  {
   "cell_type": "code",
   "execution_count": 37,
   "metadata": {},
   "outputs": [
    {
     "data": {
      "text/plain": [
       "0"
      ]
     },
     "execution_count": 37,
     "metadata": {},
     "output_type": "execute_result"
    }
   ],
   "source": [
    "emp.isnull().sum().sum()"
   ]
  },
  {
   "cell_type": "markdown",
   "metadata": {},
   "source": [
    "# Feature Selection"
   ]
  },
  {
   "cell_type": "code",
   "execution_count": 38,
   "metadata": {},
   "outputs": [],
   "source": [
    "##Correlation analysis for continuous variables\n",
    "#Correlation plot\n",
    "emp_corr = emp.loc[:,continuous_vars]"
   ]
  },
  {
   "cell_type": "code",
   "execution_count": 39,
   "metadata": {},
   "outputs": [
    {
     "data": {
      "text/plain": [
       "(740, 10)"
      ]
     },
     "execution_count": 39,
     "metadata": {},
     "output_type": "execute_result"
    }
   ],
   "source": [
    "emp_corr.shape"
   ]
  },
  {
   "cell_type": "code",
   "execution_count": 40,
   "metadata": {},
   "outputs": [
    {
     "data": {
      "text/plain": [
       "[]"
      ]
     },
     "execution_count": 40,
     "metadata": {},
     "output_type": "execute_result"
    },
    {
     "data": {
      "image/png": "[encoded data removed]",
      "text/plain": [
       "<Figure size 720x720 with 2 Axes>"
      ]
     },
     "metadata": {
      "needs_background": "light"
     },
     "output_type": "display_data"
    }
   ],
   "source": [
    "#Set the width and hieght of the plot\n",
    "f, ax = plt.subplots(figsize=(10, 10))\n",
    "\n",
    "#Generate correlation matrix\n",
    "corr = emp_corr.corr()\n",
    "\n",
    "#Plot using seaborn library\n",
    "sns.heatmap(corr, mask=np.zeros_like(corr, dtype=np.bool), \n",
    "            cmap=sns.diverging_palette(220, 50, as_cmap=True),\n",
    "            square=True, ax=ax, annot = True)\n",
    "plt.plot()"
   ]
  },
  {
   "cell_type": "code",
   "execution_count": 41,
   "metadata": {},
   "outputs": [
    {
     "name": "stdout",
     "output_type": "stream",
     "text": [
      "ID\n",
      "0.10431759579982797\n",
      "Reason for absence\n",
      "7.227995875887755e-100\n",
      "Month of absence\n",
      "0.24663945902647105\n",
      "Day of the week\n",
      "0.5333626247892\n",
      "Seasons\n",
      "0.00224856476856202\n",
      "Disciplinary failure\n",
      "3.422028992348971e-69\n",
      "Education\n",
      "1.0\n",
      "Social drinker\n",
      "1.871623113896839e-72\n",
      "Social smoker\n",
      "0.0746606491689172\n",
      "Pet\n",
      "0.9999999614655947\n",
      "Son\n",
      "1.2392714397316412e-61\n"
     ]
    }
   ],
   "source": [
    "for i in categorical_vars:\n",
    "    print(i)\n",
    "    chi2, p, dof, ex = chi2_contingency(pd.crosstab(emp['Absenteeism time in hours'],emp[i]))\n",
    "    print(p)"
   ]
  },
  {
   "cell_type": "code",
   "execution_count": 42,
   "metadata": {},
   "outputs": [],
   "source": [
    "emp1 = emp"
   ]
  },
  {
   "cell_type": "code",
   "execution_count": 43,
   "metadata": {},
   "outputs": [],
   "source": [
    "# Droping the variables which has redundant information\n",
    "to_drop = ['Weight','ID', 'Month of absence', 'Education', 'Pet']\n",
    "emp = emp.drop(to_drop, axis = 1)"
   ]
  },
  {
   "cell_type": "code",
   "execution_count": 44,
   "metadata": {},
   "outputs": [],
   "source": [
    "# Updating the Continuous Variables and Categorical Variables after droping some variables\n",
    "continuous_vars = [i for i in continuous_vars if i not in to_drop]\n",
    "categorical_vars = [i for i in categorical_vars if i not in to_drop]"
   ]
  },
  {
   "cell_type": "markdown",
   "metadata": {},
   "source": [
    "# Feature Scaling "
   ]
  },
  {
   "cell_type": "code",
   "execution_count": 45,
   "metadata": {},
   "outputs": [
    {
     "data": {
      "image/png": "[encoded data removed]",
      "text/plain": [
       "<Figure size 432x288 with 1 Axes>"
      ]
     },
     "metadata": {
      "needs_background": "light"
     },
     "output_type": "display_data"
    },
    {
     "data": {
      "image/png": "[encoded data removed]",
      "text/plain": [
       "<Figure size 432x288 with 1 Axes>"
      ]
     },
     "metadata": {
      "needs_background": "light"
     },
     "output_type": "display_data"
    },
    {
     "data": {
      "image/png": "[encoded data removed]",
      "text/plain": [
       "<Figure size 432x288 with 1 Axes>"
      ]
     },
     "metadata": {
      "needs_background": "light"
     },
     "output_type": "display_data"
    },
    {
     "data": {
      "image/png": "[encoded data removed]",
      "text/plain": [
       "<Figure size 432x288 with 1 Axes>"
      ]
     },
     "metadata": {
      "needs_background": "light"
     },
     "output_type": "display_data"
    },
    {
     "data": {
      "image/png": "[encoded data removed]",
      "text/plain": [
       "<Figure size 432x288 with 1 Axes>"
      ]
     },
     "metadata": {
      "needs_background": "light"
     },
     "output_type": "display_data"
    },
    {
     "data": {
      "image/png": "[encoded data removed]",
      "text/plain": [
       "<Figure size 432x288 with 1 Axes>"
      ]
     },
     "metadata": {
      "needs_background": "light"
     },
     "output_type": "display_data"
    },
    {
     "data": {
      "image/png": "[encoded data removed]",
      "text/plain": [
       "<Figure size 432x288 with 1 Axes>"
      ]
     },
     "metadata": {
      "needs_background": "light"
     },
     "output_type": "display_data"
    },
    {
     "data": {
      "image/png": "[encoded data removed]",
      "text/plain": [
       "<Figure size 432x288 with 1 Axes>"
      ]
     },
     "metadata": {
      "needs_background": "light"
     },
     "output_type": "display_data"
    }
   ],
   "source": [
    "# Checking if there is any normally distributed variable in data\n",
    "for i in continuous_vars:\n",
    "    if i == 'Absenteeism time in hours':\n",
    "        continue\n",
    "    sns.distplot(emp[i],bins = 'auto')\n",
    "    plt.title(\"Checking Distribution for Variable \"+str(i))\n",
    "    plt.ylabel(\"Density\")\n",
    "    plt.show()"
   ]
  },
  {
   "cell_type": "code",
   "execution_count": 46,
   "metadata": {},
   "outputs": [],
   "source": [
    "# Since there is no normally distributed curve in any of the variable we will use Normalizationg for Feature Scalling\n",
    "# #Normalization\n",
    "for i in continuous_vars:\n",
    "    if i == 'Absenteeism time in hours':\n",
    "        continue\n",
    "    emp[i] = (emp[i] - emp[i].min())/(emp[i].max()-emp[i].min())"
   ]
  },
  {
   "cell_type": "code",
   "execution_count": 47,
   "metadata": {},
   "outputs": [
    {
     "data": {
      "text/html": [
       "<div>\n",
       "<style scoped>\n",
       "    .dataframe tbody tr th:only-of-type {\n",
       "        vertical-align: middle;\n",
       "    }\n",
       "\n",
       "    .dataframe tbody tr th {\n",
       "        vertical-align: top;\n",
       "    }\n",
       "\n",
       "    .dataframe thead th {\n",
       "        text-align: right;\n",
       "    }\n",
       "</style>\n",
       "<table border=\"1\" class=\"dataframe\">\n",
       "  <thead>\n",
       "    <tr style=\"text-align: right;\">\n",
       "      <th></th>\n",
       "      <th>Reason for absence</th>\n",
       "      <th>Day of the week</th>\n",
       "      <th>Seasons</th>\n",
       "      <th>Transportation expense</th>\n",
       "      <th>Distance from Residence to Work</th>\n",
       "      <th>Service time</th>\n",
       "      <th>Age</th>\n",
       "      <th>Work load Average/day</th>\n",
       "      <th>Hit target</th>\n",
       "      <th>Disciplinary failure</th>\n",
       "      <th>Son</th>\n",
       "      <th>Social drinker</th>\n",
       "      <th>Social smoker</th>\n",
       "      <th>Height</th>\n",
       "      <th>Body mass index</th>\n",
       "      <th>Absenteeism time in hours</th>\n",
       "    </tr>\n",
       "  </thead>\n",
       "  <tbody>\n",
       "    <tr>\n",
       "      <th>0</th>\n",
       "      <td>26.0</td>\n",
       "      <td>3.0</td>\n",
       "      <td>1.0</td>\n",
       "      <td>0.633333</td>\n",
       "      <td>0.659574</td>\n",
       "      <td>0.428571</td>\n",
       "      <td>0.193548</td>\n",
       "      <td>0.194471</td>\n",
       "      <td>0.842105</td>\n",
       "      <td>0.0</td>\n",
       "      <td>2.0</td>\n",
       "      <td>1.0</td>\n",
       "      <td>0.0</td>\n",
       "      <td>0.272727</td>\n",
       "      <td>0.578947</td>\n",
       "      <td>4.000000</td>\n",
       "    </tr>\n",
       "    <tr>\n",
       "      <th>1</th>\n",
       "      <td>0.0</td>\n",
       "      <td>3.0</td>\n",
       "      <td>1.0</td>\n",
       "      <td>0.000000</td>\n",
       "      <td>0.170213</td>\n",
       "      <td>0.607143</td>\n",
       "      <td>0.741935</td>\n",
       "      <td>0.194471</td>\n",
       "      <td>0.842105</td>\n",
       "      <td>1.0</td>\n",
       "      <td>1.0</td>\n",
       "      <td>1.0</td>\n",
       "      <td>0.0</td>\n",
       "      <td>0.454545</td>\n",
       "      <td>0.631579</td>\n",
       "      <td>0.000000</td>\n",
       "    </tr>\n",
       "    <tr>\n",
       "      <th>2</th>\n",
       "      <td>23.0</td>\n",
       "      <td>4.0</td>\n",
       "      <td>1.0</td>\n",
       "      <td>0.225926</td>\n",
       "      <td>0.978723</td>\n",
       "      <td>0.607143</td>\n",
       "      <td>0.354839</td>\n",
       "      <td>0.194471</td>\n",
       "      <td>0.842105</td>\n",
       "      <td>0.0</td>\n",
       "      <td>0.0</td>\n",
       "      <td>1.0</td>\n",
       "      <td>0.0</td>\n",
       "      <td>0.212121</td>\n",
       "      <td>0.631579</td>\n",
       "      <td>2.000000</td>\n",
       "    </tr>\n",
       "    <tr>\n",
       "      <th>3</th>\n",
       "      <td>7.0</td>\n",
       "      <td>5.0</td>\n",
       "      <td>1.0</td>\n",
       "      <td>0.596296</td>\n",
       "      <td>0.000000</td>\n",
       "      <td>0.464286</td>\n",
       "      <td>0.387097</td>\n",
       "      <td>0.194471</td>\n",
       "      <td>0.842105</td>\n",
       "      <td>0.0</td>\n",
       "      <td>2.0</td>\n",
       "      <td>1.0</td>\n",
       "      <td>1.0</td>\n",
       "      <td>0.151515</td>\n",
       "      <td>0.263158</td>\n",
       "      <td>4.000000</td>\n",
       "    </tr>\n",
       "    <tr>\n",
       "      <th>4</th>\n",
       "      <td>23.0</td>\n",
       "      <td>5.0</td>\n",
       "      <td>1.0</td>\n",
       "      <td>0.633333</td>\n",
       "      <td>0.659574</td>\n",
       "      <td>0.428571</td>\n",
       "      <td>0.193548</td>\n",
       "      <td>0.194471</td>\n",
       "      <td>0.842105</td>\n",
       "      <td>0.0</td>\n",
       "      <td>2.0</td>\n",
       "      <td>1.0</td>\n",
       "      <td>0.0</td>\n",
       "      <td>0.272727</td>\n",
       "      <td>0.578947</td>\n",
       "      <td>2.000000</td>\n",
       "    </tr>\n",
       "    <tr>\n",
       "      <th>5</th>\n",
       "      <td>23.0</td>\n",
       "      <td>6.0</td>\n",
       "      <td>1.0</td>\n",
       "      <td>0.225926</td>\n",
       "      <td>0.978723</td>\n",
       "      <td>0.607143</td>\n",
       "      <td>0.354839</td>\n",
       "      <td>0.194471</td>\n",
       "      <td>0.842105</td>\n",
       "      <td>0.0</td>\n",
       "      <td>0.0</td>\n",
       "      <td>1.0</td>\n",
       "      <td>0.0</td>\n",
       "      <td>0.212121</td>\n",
       "      <td>0.631579</td>\n",
       "      <td>2.000009</td>\n",
       "    </tr>\n",
       "    <tr>\n",
       "      <th>6</th>\n",
       "      <td>22.0</td>\n",
       "      <td>6.0</td>\n",
       "      <td>1.0</td>\n",
       "      <td>0.875629</td>\n",
       "      <td>1.000000</td>\n",
       "      <td>0.071429</td>\n",
       "      <td>0.032258</td>\n",
       "      <td>0.194471</td>\n",
       "      <td>0.842105</td>\n",
       "      <td>0.0</td>\n",
       "      <td>1.0</td>\n",
       "      <td>1.0</td>\n",
       "      <td>0.0</td>\n",
       "      <td>0.272727</td>\n",
       "      <td>0.421053</td>\n",
       "      <td>8.000000</td>\n",
       "    </tr>\n",
       "    <tr>\n",
       "      <th>7</th>\n",
       "      <td>23.0</td>\n",
       "      <td>6.0</td>\n",
       "      <td>1.0</td>\n",
       "      <td>0.525926</td>\n",
       "      <td>0.957447</td>\n",
       "      <td>0.357143</td>\n",
       "      <td>0.290323</td>\n",
       "      <td>0.194471</td>\n",
       "      <td>0.842105</td>\n",
       "      <td>0.0</td>\n",
       "      <td>4.0</td>\n",
       "      <td>1.0</td>\n",
       "      <td>0.0</td>\n",
       "      <td>0.151515</td>\n",
       "      <td>0.210526</td>\n",
       "      <td>4.000000</td>\n",
       "    </tr>\n",
       "    <tr>\n",
       "      <th>8</th>\n",
       "      <td>19.0</td>\n",
       "      <td>2.0</td>\n",
       "      <td>1.0</td>\n",
       "      <td>0.137037</td>\n",
       "      <td>0.148936</td>\n",
       "      <td>0.464286</td>\n",
       "      <td>0.225806</td>\n",
       "      <td>0.194471</td>\n",
       "      <td>0.842105</td>\n",
       "      <td>0.0</td>\n",
       "      <td>2.0</td>\n",
       "      <td>1.0</td>\n",
       "      <td>0.0</td>\n",
       "      <td>1.000000</td>\n",
       "      <td>0.315789</td>\n",
       "      <td>3.279386</td>\n",
       "    </tr>\n",
       "    <tr>\n",
       "      <th>9</th>\n",
       "      <td>22.0</td>\n",
       "      <td>2.0</td>\n",
       "      <td>1.0</td>\n",
       "      <td>0.433333</td>\n",
       "      <td>0.127660</td>\n",
       "      <td>0.464286</td>\n",
       "      <td>0.322581</td>\n",
       "      <td>0.194471</td>\n",
       "      <td>0.842105</td>\n",
       "      <td>0.0</td>\n",
       "      <td>1.0</td>\n",
       "      <td>0.0</td>\n",
       "      <td>0.0</td>\n",
       "      <td>0.272727</td>\n",
       "      <td>0.526316</td>\n",
       "      <td>8.000000</td>\n",
       "    </tr>\n",
       "  </tbody>\n",
       "</table>\n",
       "</div>"
      ],
      "text/plain": [
       "   Reason for absence  Day of the week  Seasons  Transportation expense  \\\n",
       "0                26.0              3.0      1.0                0.633333   \n",
       "1                 0.0              3.0      1.0                0.000000   \n",
       "2                23.0              4.0      1.0                0.225926   \n",
       "3                 7.0              5.0      1.0                0.596296   \n",
       "4                23.0              5.0      1.0                0.633333   \n",
       "5                23.0              6.0      1.0                0.225926   \n",
       "6                22.0              6.0      1.0                0.875629   \n",
       "7                23.0              6.0      1.0                0.525926   \n",
       "8                19.0              2.0      1.0                0.137037   \n",
       "9                22.0              2.0      1.0                0.433333   \n",
       "\n",
       "   Distance from Residence to Work  Service time       Age  \\\n",
       "0                         0.659574      0.428571  0.193548   \n",
       "1                         0.170213      0.607143  0.741935   \n",
       "2                         0.978723      0.607143  0.354839   \n",
       "3                         0.000000      0.464286  0.387097   \n",
       "4                         0.659574      0.428571  0.193548   \n",
       "5                         0.978723      0.607143  0.354839   \n",
       "6                         1.000000      0.071429  0.032258   \n",
       "7                         0.957447      0.357143  0.290323   \n",
       "8                         0.148936      0.464286  0.225806   \n",
       "9                         0.127660      0.464286  0.322581   \n",
       "\n",
       "   Work load Average/day   Hit target  Disciplinary failure  Son  \\\n",
       "0                0.194471    0.842105                   0.0  2.0   \n",
       "1                0.194471    0.842105                   1.0  1.0   \n",
       "2                0.194471    0.842105                   0.0  0.0   \n",
       "3                0.194471    0.842105                   0.0  2.0   \n",
       "4                0.194471    0.842105                   0.0  2.0   \n",
       "5                0.194471    0.842105                   0.0  0.0   \n",
       "6                0.194471    0.842105                   0.0  1.0   \n",
       "7                0.194471    0.842105                   0.0  4.0   \n",
       "8                0.194471    0.842105                   0.0  2.0   \n",
       "9                0.194471    0.842105                   0.0  1.0   \n",
       "\n",
       "   Social drinker  Social smoker    Height  Body mass index  \\\n",
       "0             1.0            0.0  0.272727         0.578947   \n",
       "1             1.0            0.0  0.454545         0.631579   \n",
       "2             1.0            0.0  0.212121         0.631579   \n",
       "3             1.0            1.0  0.151515         0.263158   \n",
       "4             1.0            0.0  0.272727         0.578947   \n",
       "5             1.0            0.0  0.212121         0.631579   \n",
       "6             1.0            0.0  0.272727         0.421053   \n",
       "7             1.0            0.0  0.151515         0.210526   \n",
       "8             1.0            0.0  1.000000         0.315789   \n",
       "9             0.0            0.0  0.272727         0.526316   \n",
       "\n",
       "   Absenteeism time in hours  \n",
       "0                   4.000000  \n",
       "1                   0.000000  \n",
       "2                   2.000000  \n",
       "3                   4.000000  \n",
       "4                   2.000000  \n",
       "5                   2.000009  \n",
       "6                   8.000000  \n",
       "7                   4.000000  \n",
       "8                   3.279386  \n",
       "9                   8.000000  "
      ]
     },
     "execution_count": 47,
     "metadata": {},
     "output_type": "execute_result"
    }
   ],
   "source": [
    "emp.head(10)"
   ]
  },
  {
   "cell_type": "markdown",
   "metadata": {},
   "source": [
    "# ML Algorithm"
   ]
  },
  {
   "cell_type": "code",
   "execution_count": 48,
   "metadata": {},
   "outputs": [],
   "source": [
    "## dividing data into train and test\n",
    "#RMSE = 2.998\n",
    "#acuracy = 97.002\n",
    "train,test = train_test_split(emp,test_size= 0.2)"
   ]
  },
  {
   "cell_type": "code",
   "execution_count": 49,
   "metadata": {},
   "outputs": [
    {
     "data": {
      "text/plain": [
       "(592, 16)"
      ]
     },
     "execution_count": 49,
     "metadata": {},
     "output_type": "execute_result"
    }
   ],
   "source": [
    "train.shape"
   ]
  },
  {
   "cell_type": "code",
   "execution_count": 50,
   "metadata": {},
   "outputs": [],
   "source": [
    "# Decision Tree Regression\n",
    "#\n",
    "fit_dt = DecisionTreeRegressor(max_depth = 2).fit(train.iloc[:,0:15],train.iloc[:,15])"
   ]
  },
  {
   "cell_type": "code",
   "execution_count": 51,
   "metadata": {},
   "outputs": [
    {
     "data": {
      "text/plain": [
       "DecisionTreeRegressor(criterion='mse', max_depth=2, max_features=None,\n",
       "           max_leaf_nodes=None, min_impurity_decrease=0.0,\n",
       "           min_impurity_split=None, min_samples_leaf=1,\n",
       "           min_samples_split=2, min_weight_fraction_leaf=0.0,\n",
       "           presort=False, random_state=None, splitter='best')"
      ]
     },
     "execution_count": 51,
     "metadata": {},
     "output_type": "execute_result"
    }
   ],
   "source": [
    "fit_dt"
   ]
  },
  {
   "cell_type": "code",
   "execution_count": 52,
   "metadata": {},
   "outputs": [],
   "source": [
    "predictions_dt = fit_dt.predict(test.iloc[:,0:15])"
   ]
  },
  {
   "cell_type": "code",
   "execution_count": 53,
   "metadata": {},
   "outputs": [
    {
     "data": {
      "text/plain": [
       "array([3.03713368, 6.34388695, 3.03713368, 3.03713368, 7.55555556,\n",
       "       6.34388695, 3.03713368, 6.34388695, 0.79999614, 3.03713368,\n",
       "       3.03713368, 3.03713368, 0.79999614, 6.34388695, 6.34388695,\n",
       "       3.03713368, 6.34388695, 3.03713368, 6.34388695, 3.03713368,\n",
       "       6.34388695, 6.34388695, 6.34388695, 0.79999614, 6.34388695,\n",
       "       3.03713368, 3.03713368, 3.03713368, 6.34388695, 3.03713368,\n",
       "       3.03713368, 0.79999614, 3.03713368, 6.34388695, 6.34388695,\n",
       "       3.03713368, 3.03713368, 3.03713368, 6.34388695, 3.03713368,\n",
       "       3.03713368, 6.34388695, 3.03713368, 6.34388695, 6.34388695,\n",
       "       3.03713368, 3.03713368, 3.03713368, 3.03713368, 6.34388695,\n",
       "       3.03713368, 3.03713368, 3.03713368, 3.03713368, 3.03713368,\n",
       "       6.34388695, 3.03713368, 3.03713368, 3.03713368, 6.34388695,\n",
       "       6.34388695, 6.34388695, 3.03713368, 3.03713368, 6.34388695,\n",
       "       3.03713368, 3.03713368, 3.03713368, 6.34388695, 3.03713368,\n",
       "       3.03713368, 6.34388695, 3.03713368, 6.34388695, 6.34388695,\n",
       "       3.03713368, 6.34388695, 3.03713368, 0.79999614, 6.34388695,\n",
       "       3.03713368, 6.34388695, 3.03713368, 3.03713368, 6.34388695,\n",
       "       3.03713368, 3.03713368, 0.79999614, 6.34388695, 3.03713368,\n",
       "       6.34388695, 6.34388695, 6.34388695, 3.03713368, 6.34388695,\n",
       "       0.79999614, 3.03713368, 6.34388695, 6.34388695, 3.03713368,\n",
       "       3.03713368, 3.03713368, 0.79999614, 3.03713368, 3.03713368,\n",
       "       3.03713368, 3.03713368, 3.03713368, 6.34388695, 6.34388695,\n",
       "       6.34388695, 6.34388695, 6.34388695, 3.03713368, 7.55555556,\n",
       "       3.03713368, 3.03713368, 3.03713368, 3.03713368, 6.34388695,\n",
       "       3.03713368, 6.34388695, 3.03713368, 0.79999614, 6.34388695,\n",
       "       6.34388695, 6.34388695, 3.03713368, 3.03713368, 3.03713368,\n",
       "       3.03713368, 3.03713368, 3.03713368, 3.03713368, 3.03713368,\n",
       "       3.03713368, 3.03713368, 0.79999614, 6.34388695, 6.34388695,\n",
       "       6.34388695, 6.34388695, 6.34388695, 6.34388695, 3.03713368,\n",
       "       3.03713368, 3.03713368, 3.03713368])"
      ]
     },
     "execution_count": 53,
     "metadata": {},
     "output_type": "execute_result"
    }
   ],
   "source": [
    "predictions_dt"
   ]
  },
  {
   "cell_type": "code",
   "execution_count": 54,
   "metadata": {},
   "outputs": [
    {
     "name": "stdout",
     "output_type": "stream",
     "text": [
      "2.97565257606366\n"
     ]
    }
   ],
   "source": [
    "mse_dt = np.sqrt(mean_squared_error(test.iloc[:,15], predictions_dt))\n",
    "print(mse_dt)"
   ]
  },
  {
   "cell_type": "markdown",
   "metadata": {},
   "source": [
    "# Random forest \n",
    "# n = 100\n",
    "# RMSE = 2.840\n",
    "# acurracy = 97.16"
   ]
  },
  {
   "cell_type": "code",
   "execution_count": 55,
   "metadata": {},
   "outputs": [],
   "source": [
    "# Importing libraries for Random Forest\n",
    "from sklearn.ensemble import RandomForestRegressor"
   ]
  },
  {
   "cell_type": "code",
   "execution_count": 56,
   "metadata": {},
   "outputs": [],
   "source": [
    "X_train, X_test, y_train, y_test = train_test_split( emp.iloc[:, emp.columns != 'Absenteeism time in hours'], emp.iloc[:, 15], test_size = 0.20, random_state = 1)"
   ]
  },
  {
   "cell_type": "code",
   "execution_count": 57,
   "metadata": {},
   "outputs": [],
   "source": [
    "#Build random forest using RandomForestRegressor\n",
    "rf_model = RandomForestRegressor(n_estimators = 100, random_state = 1).fit(X_train,y_train)"
   ]
  },
  {
   "cell_type": "code",
   "execution_count": 58,
   "metadata": {},
   "outputs": [],
   "source": [
    "#Perdict for test cases\n",
    "rf_predictions = rf_model.predict(X_test)"
   ]
  },
  {
   "cell_type": "code",
   "execution_count": 59,
   "metadata": {},
   "outputs": [],
   "source": [
    "mse_rf = np.sqrt(mean_squared_error(y_test, rf_predictions))"
   ]
  },
  {
   "cell_type": "code",
   "execution_count": 60,
   "metadata": {},
   "outputs": [
    {
     "data": {
      "text/plain": [
       "2.8598498459153343"
      ]
     },
     "execution_count": 60,
     "metadata": {},
     "output_type": "execute_result"
    }
   ],
   "source": [
    "mse_rf"
   ]
  },
  {
   "cell_type": "markdown",
   "metadata": {},
   "source": [
    "# Linear Regression \n",
    "# RMSE = 3.39\n",
    "# Acurracy = 96.61"
   ]
  },
  {
   "cell_type": "code",
   "execution_count": 61,
   "metadata": {},
   "outputs": [],
   "source": [
    "#Train the model using the train data set \n",
    "lr_model = sm.OLS(train.iloc[:,15],train.iloc[:,0:15]).fit()"
   ]
  },
  {
   "cell_type": "code",
   "execution_count": 62,
   "metadata": {},
   "outputs": [
    {
     "data": {
      "text/html": [
       "<table class=\"simpletable\">\n",
       "<caption>OLS Regression Results</caption>\n",
       "<tr>\n",
       "  <th>Dep. Variable:</th>    <td>Absenteeism time in hours</td> <th>  R-squared:         </th> <td>   0.693</td> \n",
       "</tr>\n",
       "<tr>\n",
       "  <th>Model:</th>                       <td>OLS</td>            <th>  Adj. R-squared:    </th> <td>   0.685</td> \n",
       "</tr>\n",
       "<tr>\n",
       "  <th>Method:</th>                 <td>Least Squares</td>       <th>  F-statistic:       </th> <td>   86.77</td> \n",
       "</tr>\n",
       "<tr>\n",
       "  <th>Date:</th>                 <td>Sun, 26 May 2019</td>      <th>  Prob (F-statistic):</th> <td>6.71e-137</td>\n",
       "</tr>\n",
       "<tr>\n",
       "  <th>Time:</th>                     <td>22:04:55</td>          <th>  Log-Likelihood:    </th> <td> -1504.9</td> \n",
       "</tr>\n",
       "<tr>\n",
       "  <th>No. Observations:</th>          <td>   592</td>           <th>  AIC:               </th> <td>   3040.</td> \n",
       "</tr>\n",
       "<tr>\n",
       "  <th>Df Residuals:</th>              <td>   577</td>           <th>  BIC:               </th> <td>   3106.</td> \n",
       "</tr>\n",
       "<tr>\n",
       "  <th>Df Model:</th>                  <td>    15</td>           <th>                     </th>     <td> </td>    \n",
       "</tr>\n",
       "<tr>\n",
       "  <th>Covariance Type:</th>          <td>nonrobust</td>         <th>                     </th>     <td> </td>    \n",
       "</tr>\n",
       "</table>\n",
       "<table class=\"simpletable\">\n",
       "<tr>\n",
       "                 <td></td>                    <th>coef</th>     <th>std err</th>      <th>t</th>      <th>P>|t|</th>  <th>[0.025</th>    <th>0.975]</th>  \n",
       "</tr>\n",
       "<tr>\n",
       "  <th>Reason for absence</th>              <td>   -0.1065</td> <td>    0.017</td> <td>   -6.093</td> <td> 0.000</td> <td>   -0.141</td> <td>   -0.072</td>\n",
       "</tr>\n",
       "<tr>\n",
       "  <th>Day of the week</th>                 <td>    0.1121</td> <td>    0.090</td> <td>    1.251</td> <td> 0.211</td> <td>   -0.064</td> <td>    0.288</td>\n",
       "</tr>\n",
       "<tr>\n",
       "  <th>Seasons</th>                         <td>    0.1611</td> <td>    0.116</td> <td>    1.386</td> <td> 0.166</td> <td>   -0.067</td> <td>    0.390</td>\n",
       "</tr>\n",
       "<tr>\n",
       "  <th>Transportation expense</th>          <td>    3.9955</td> <td>    0.607</td> <td>    6.581</td> <td> 0.000</td> <td>    2.803</td> <td>    5.188</td>\n",
       "</tr>\n",
       "<tr>\n",
       "  <th>Distance from Residence to Work</th> <td>   -0.4294</td> <td>    0.577</td> <td>   -0.744</td> <td> 0.457</td> <td>   -1.563</td> <td>    0.705</td>\n",
       "</tr>\n",
       "<tr>\n",
       "  <th>Service time</th>                    <td>    2.1237</td> <td>    1.290</td> <td>    1.647</td> <td> 0.100</td> <td>   -0.409</td> <td>    4.657</td>\n",
       "</tr>\n",
       "<tr>\n",
       "  <th>Age</th>                             <td>   -1.7003</td> <td>    0.924</td> <td>   -1.840</td> <td> 0.066</td> <td>   -3.516</td> <td>    0.115</td>\n",
       "</tr>\n",
       "<tr>\n",
       "  <th>Work load Average/day </th>          <td>    1.7442</td> <td>    0.572</td> <td>    3.048</td> <td> 0.002</td> <td>    0.620</td> <td>    2.868</td>\n",
       "</tr>\n",
       "<tr>\n",
       "  <th>Hit target</th>                      <td>    1.9741</td> <td>    0.594</td> <td>    3.321</td> <td> 0.001</td> <td>    0.807</td> <td>    3.142</td>\n",
       "</tr>\n",
       "<tr>\n",
       "  <th>Disciplinary failure</th>            <td>   -6.2573</td> <td>    0.704</td> <td>   -8.884</td> <td> 0.000</td> <td>   -7.641</td> <td>   -4.874</td>\n",
       "</tr>\n",
       "<tr>\n",
       "  <th>Son</th>                             <td>    0.3147</td> <td>    0.135</td> <td>    2.330</td> <td> 0.020</td> <td>    0.049</td> <td>    0.580</td>\n",
       "</tr>\n",
       "<tr>\n",
       "  <th>Social drinker</th>                  <td>    0.3840</td> <td>    0.373</td> <td>    1.031</td> <td> 0.303</td> <td>   -0.348</td> <td>    1.116</td>\n",
       "</tr>\n",
       "<tr>\n",
       "  <th>Social smoker</th>                   <td>    0.8310</td> <td>    0.558</td> <td>    1.490</td> <td> 0.137</td> <td>   -0.265</td> <td>    1.927</td>\n",
       "</tr>\n",
       "<tr>\n",
       "  <th>Height</th>                          <td>    1.6809</td> <td>    0.838</td> <td>    2.005</td> <td> 0.045</td> <td>    0.034</td> <td>    3.328</td>\n",
       "</tr>\n",
       "<tr>\n",
       "  <th>Body mass index</th>                 <td>    2.4444</td> <td>    0.744</td> <td>    3.286</td> <td> 0.001</td> <td>    0.983</td> <td>    3.905</td>\n",
       "</tr>\n",
       "</table>\n",
       "<table class=\"simpletable\">\n",
       "<tr>\n",
       "  <th>Omnibus:</th>       <td>131.358</td> <th>  Durbin-Watson:     </th> <td>   2.022</td>\n",
       "</tr>\n",
       "<tr>\n",
       "  <th>Prob(Omnibus):</th> <td> 0.000</td>  <th>  Jarque-Bera (JB):  </th> <td> 303.062</td>\n",
       "</tr>\n",
       "<tr>\n",
       "  <th>Skew:</th>          <td> 1.161</td>  <th>  Prob(JB):          </th> <td>1.55e-66</td>\n",
       "</tr>\n",
       "<tr>\n",
       "  <th>Kurtosis:</th>      <td> 5.626</td>  <th>  Cond. No.          </th> <td>    247.</td>\n",
       "</tr>\n",
       "</table><br/><br/>Warnings:<br/>[1] Standard Errors assume that the covariance matrix of the errors is correctly specified."
      ],
      "text/plain": [
       "<class 'statsmodels.iolib.summary.Summary'>\n",
       "\"\"\"\n",
       "                                OLS Regression Results                               \n",
       "=====================================================================================\n",
       "Dep. Variable:     Absenteeism time in hours   R-squared:                       0.693\n",
       "Model:                                   OLS   Adj. R-squared:                  0.685\n",
       "Method:                        Least Squares   F-statistic:                     86.77\n",
       "Date:                       Sun, 26 May 2019   Prob (F-statistic):          6.71e-137\n",
       "Time:                               22:04:55   Log-Likelihood:                -1504.9\n",
       "No. Observations:                        592   AIC:                             3040.\n",
       "Df Residuals:                            577   BIC:                             3106.\n",
       "Df Model:                                 15                                         \n",
       "Covariance Type:                   nonrobust                                         \n",
       "===================================================================================================\n",
       "                                      coef    std err          t      P>|t|      [0.025      0.975]\n",
       "---------------------------------------------------------------------------------------------------\n",
       "Reason for absence                 -0.1065      0.017     -6.093      0.000      -0.141      -0.072\n",
       "Day of the week                     0.1121      0.090      1.251      0.211      -0.064       0.288\n",
       "Seasons                             0.1611      0.116      1.386      0.166      -0.067       0.390\n",
       "Transportation expense              3.9955      0.607      6.581      0.000       2.803       5.188\n",
       "Distance from Residence to Work    -0.4294      0.577     -0.744      0.457      -1.563       0.705\n",
       "Service time                        2.1237      1.290      1.647      0.100      -0.409       4.657\n",
       "Age                                -1.7003      0.924     -1.840      0.066      -3.516       0.115\n",
       "Work load Average/day               1.7442      0.572      3.048      0.002       0.620       2.868\n",
       "Hit target                          1.9741      0.594      3.321      0.001       0.807       3.142\n",
       "Disciplinary failure               -6.2573      0.704     -8.884      0.000      -7.641      -4.874\n",
       "Son                                 0.3147      0.135      2.330      0.020       0.049       0.580\n",
       "Social drinker                      0.3840      0.373      1.031      0.303      -0.348       1.116\n",
       "Social smoker                       0.8310      0.558      1.490      0.137      -0.265       1.927\n",
       "Height                              1.6809      0.838      2.005      0.045       0.034       3.328\n",
       "Body mass index                     2.4444      0.744      3.286      0.001       0.983       3.905\n",
       "==============================================================================\n",
       "Omnibus:                      131.358   Durbin-Watson:                   2.022\n",
       "Prob(Omnibus):                  0.000   Jarque-Bera (JB):              303.062\n",
       "Skew:                           1.161   Prob(JB):                     1.55e-66\n",
       "Kurtosis:                       5.626   Cond. No.                         247.\n",
       "==============================================================================\n",
       "\n",
       "Warnings:\n",
       "[1] Standard Errors assume that the covariance matrix of the errors is correctly specified.\n",
       "\"\"\""
      ]
     },
     "execution_count": 62,
     "metadata": {},
     "output_type": "execute_result"
    }
   ],
   "source": [
    "#print the model stats\n",
    "lr_model.summary()"
   ]
  },
  {
   "cell_type": "code",
   "execution_count": 63,
   "metadata": {},
   "outputs": [],
   "source": [
    "#predict \n",
    "prediction_lr = lr_model.predict(test.iloc[:,0:15])"
   ]
  },
  {
   "cell_type": "code",
   "execution_count": 64,
   "metadata": {},
   "outputs": [],
   "source": [
    "mse_lr = np.sqrt(mean_squared_error(test.iloc[:,15], prediction_lr))"
   ]
  },
  {
   "cell_type": "code",
   "execution_count": 65,
   "metadata": {},
   "outputs": [
    {
     "data": {
      "text/plain": [
       "3.0792600134841197"
      ]
     },
     "execution_count": 65,
     "metadata": {},
     "output_type": "execute_result"
    }
   ],
   "source": [
    "mse_lr"
   ]
  },
  {
   "cell_type": "code",
   "execution_count": 66,
   "metadata": {},
   "outputs": [
    {
     "data": {
      "text/html": [
       "<div>\n",
       "<style scoped>\n",
       "    .dataframe tbody tr th:only-of-type {\n",
       "        vertical-align: middle;\n",
       "    }\n",
       "\n",
       "    .dataframe tbody tr th {\n",
       "        vertical-align: top;\n",
       "    }\n",
       "\n",
       "    .dataframe thead th {\n",
       "        text-align: right;\n",
       "    }\n",
       "</style>\n",
       "<table border=\"1\" class=\"dataframe\">\n",
       "  <thead>\n",
       "    <tr style=\"text-align: right;\">\n",
       "      <th></th>\n",
       "      <th>Reason for absence</th>\n",
       "      <th>Day of the week</th>\n",
       "      <th>Seasons</th>\n",
       "      <th>Transportation expense</th>\n",
       "      <th>Distance from Residence to Work</th>\n",
       "      <th>Service time</th>\n",
       "      <th>Age</th>\n",
       "      <th>Work load Average/day</th>\n",
       "      <th>Hit target</th>\n",
       "      <th>Disciplinary failure</th>\n",
       "      <th>Son</th>\n",
       "      <th>Social drinker</th>\n",
       "      <th>Social smoker</th>\n",
       "      <th>Height</th>\n",
       "      <th>Body mass index</th>\n",
       "      <th>Absenteeism time in hours</th>\n",
       "    </tr>\n",
       "  </thead>\n",
       "  <tbody>\n",
       "    <tr>\n",
       "      <th>0</th>\n",
       "      <td>26.0</td>\n",
       "      <td>3.0</td>\n",
       "      <td>1.0</td>\n",
       "      <td>0.633333</td>\n",
       "      <td>0.659574</td>\n",
       "      <td>0.428571</td>\n",
       "      <td>0.193548</td>\n",
       "      <td>0.194471</td>\n",
       "      <td>0.842105</td>\n",
       "      <td>0.0</td>\n",
       "      <td>2.0</td>\n",
       "      <td>1.0</td>\n",
       "      <td>0.0</td>\n",
       "      <td>0.272727</td>\n",
       "      <td>0.578947</td>\n",
       "      <td>4.000000</td>\n",
       "    </tr>\n",
       "    <tr>\n",
       "      <th>1</th>\n",
       "      <td>0.0</td>\n",
       "      <td>3.0</td>\n",
       "      <td>1.0</td>\n",
       "      <td>0.000000</td>\n",
       "      <td>0.170213</td>\n",
       "      <td>0.607143</td>\n",
       "      <td>0.741935</td>\n",
       "      <td>0.194471</td>\n",
       "      <td>0.842105</td>\n",
       "      <td>1.0</td>\n",
       "      <td>1.0</td>\n",
       "      <td>1.0</td>\n",
       "      <td>0.0</td>\n",
       "      <td>0.454545</td>\n",
       "      <td>0.631579</td>\n",
       "      <td>0.000000</td>\n",
       "    </tr>\n",
       "    <tr>\n",
       "      <th>2</th>\n",
       "      <td>23.0</td>\n",
       "      <td>4.0</td>\n",
       "      <td>1.0</td>\n",
       "      <td>0.225926</td>\n",
       "      <td>0.978723</td>\n",
       "      <td>0.607143</td>\n",
       "      <td>0.354839</td>\n",
       "      <td>0.194471</td>\n",
       "      <td>0.842105</td>\n",
       "      <td>0.0</td>\n",
       "      <td>0.0</td>\n",
       "      <td>1.0</td>\n",
       "      <td>0.0</td>\n",
       "      <td>0.212121</td>\n",
       "      <td>0.631579</td>\n",
       "      <td>2.000000</td>\n",
       "    </tr>\n",
       "    <tr>\n",
       "      <th>3</th>\n",
       "      <td>7.0</td>\n",
       "      <td>5.0</td>\n",
       "      <td>1.0</td>\n",
       "      <td>0.596296</td>\n",
       "      <td>0.000000</td>\n",
       "      <td>0.464286</td>\n",
       "      <td>0.387097</td>\n",
       "      <td>0.194471</td>\n",
       "      <td>0.842105</td>\n",
       "      <td>0.0</td>\n",
       "      <td>2.0</td>\n",
       "      <td>1.0</td>\n",
       "      <td>1.0</td>\n",
       "      <td>0.151515</td>\n",
       "      <td>0.263158</td>\n",
       "      <td>4.000000</td>\n",
       "    </tr>\n",
       "    <tr>\n",
       "      <th>4</th>\n",
       "      <td>23.0</td>\n",
       "      <td>5.0</td>\n",
       "      <td>1.0</td>\n",
       "      <td>0.633333</td>\n",
       "      <td>0.659574</td>\n",
       "      <td>0.428571</td>\n",
       "      <td>0.193548</td>\n",
       "      <td>0.194471</td>\n",
       "      <td>0.842105</td>\n",
       "      <td>0.0</td>\n",
       "      <td>2.0</td>\n",
       "      <td>1.0</td>\n",
       "      <td>0.0</td>\n",
       "      <td>0.272727</td>\n",
       "      <td>0.578947</td>\n",
       "      <td>2.000000</td>\n",
       "    </tr>\n",
       "    <tr>\n",
       "      <th>5</th>\n",
       "      <td>23.0</td>\n",
       "      <td>6.0</td>\n",
       "      <td>1.0</td>\n",
       "      <td>0.225926</td>\n",
       "      <td>0.978723</td>\n",
       "      <td>0.607143</td>\n",
       "      <td>0.354839</td>\n",
       "      <td>0.194471</td>\n",
       "      <td>0.842105</td>\n",
       "      <td>0.0</td>\n",
       "      <td>0.0</td>\n",
       "      <td>1.0</td>\n",
       "      <td>0.0</td>\n",
       "      <td>0.212121</td>\n",
       "      <td>0.631579</td>\n",
       "      <td>2.000009</td>\n",
       "    </tr>\n",
       "    <tr>\n",
       "      <th>6</th>\n",
       "      <td>22.0</td>\n",
       "      <td>6.0</td>\n",
       "      <td>1.0</td>\n",
       "      <td>0.875629</td>\n",
       "      <td>1.000000</td>\n",
       "      <td>0.071429</td>\n",
       "      <td>0.032258</td>\n",
       "      <td>0.194471</td>\n",
       "      <td>0.842105</td>\n",
       "      <td>0.0</td>\n",
       "      <td>1.0</td>\n",
       "      <td>1.0</td>\n",
       "      <td>0.0</td>\n",
       "      <td>0.272727</td>\n",
       "      <td>0.421053</td>\n",
       "      <td>8.000000</td>\n",
       "    </tr>\n",
       "    <tr>\n",
       "      <th>7</th>\n",
       "      <td>23.0</td>\n",
       "      <td>6.0</td>\n",
       "      <td>1.0</td>\n",
       "      <td>0.525926</td>\n",
       "      <td>0.957447</td>\n",
       "      <td>0.357143</td>\n",
       "      <td>0.290323</td>\n",
       "      <td>0.194471</td>\n",
       "      <td>0.842105</td>\n",
       "      <td>0.0</td>\n",
       "      <td>4.0</td>\n",
       "      <td>1.0</td>\n",
       "      <td>0.0</td>\n",
       "      <td>0.151515</td>\n",
       "      <td>0.210526</td>\n",
       "      <td>4.000000</td>\n",
       "    </tr>\n",
       "    <tr>\n",
       "      <th>8</th>\n",
       "      <td>19.0</td>\n",
       "      <td>2.0</td>\n",
       "      <td>1.0</td>\n",
       "      <td>0.137037</td>\n",
       "      <td>0.148936</td>\n",
       "      <td>0.464286</td>\n",
       "      <td>0.225806</td>\n",
       "      <td>0.194471</td>\n",
       "      <td>0.842105</td>\n",
       "      <td>0.0</td>\n",
       "      <td>2.0</td>\n",
       "      <td>1.0</td>\n",
       "      <td>0.0</td>\n",
       "      <td>1.000000</td>\n",
       "      <td>0.315789</td>\n",
       "      <td>3.279386</td>\n",
       "    </tr>\n",
       "    <tr>\n",
       "      <th>9</th>\n",
       "      <td>22.0</td>\n",
       "      <td>2.0</td>\n",
       "      <td>1.0</td>\n",
       "      <td>0.433333</td>\n",
       "      <td>0.127660</td>\n",
       "      <td>0.464286</td>\n",
       "      <td>0.322581</td>\n",
       "      <td>0.194471</td>\n",
       "      <td>0.842105</td>\n",
       "      <td>0.0</td>\n",
       "      <td>1.0</td>\n",
       "      <td>0.0</td>\n",
       "      <td>0.0</td>\n",
       "      <td>0.272727</td>\n",
       "      <td>0.526316</td>\n",
       "      <td>8.000000</td>\n",
       "    </tr>\n",
       "  </tbody>\n",
       "</table>\n",
       "</div>"
      ],
      "text/plain": [
       "   Reason for absence  Day of the week  Seasons  Transportation expense  \\\n",
       "0                26.0              3.0      1.0                0.633333   \n",
       "1                 0.0              3.0      1.0                0.000000   \n",
       "2                23.0              4.0      1.0                0.225926   \n",
       "3                 7.0              5.0      1.0                0.596296   \n",
       "4                23.0              5.0      1.0                0.633333   \n",
       "5                23.0              6.0      1.0                0.225926   \n",
       "6                22.0              6.0      1.0                0.875629   \n",
       "7                23.0              6.0      1.0                0.525926   \n",
       "8                19.0              2.0      1.0                0.137037   \n",
       "9                22.0              2.0      1.0                0.433333   \n",
       "\n",
       "   Distance from Residence to Work  Service time       Age  \\\n",
       "0                         0.659574      0.428571  0.193548   \n",
       "1                         0.170213      0.607143  0.741935   \n",
       "2                         0.978723      0.607143  0.354839   \n",
       "3                         0.000000      0.464286  0.387097   \n",
       "4                         0.659574      0.428571  0.193548   \n",
       "5                         0.978723      0.607143  0.354839   \n",
       "6                         1.000000      0.071429  0.032258   \n",
       "7                         0.957447      0.357143  0.290323   \n",
       "8                         0.148936      0.464286  0.225806   \n",
       "9                         0.127660      0.464286  0.322581   \n",
       "\n",
       "   Work load Average/day   Hit target  Disciplinary failure  Son  \\\n",
       "0                0.194471    0.842105                   0.0  2.0   \n",
       "1                0.194471    0.842105                   1.0  1.0   \n",
       "2                0.194471    0.842105                   0.0  0.0   \n",
       "3                0.194471    0.842105                   0.0  2.0   \n",
       "4                0.194471    0.842105                   0.0  2.0   \n",
       "5                0.194471    0.842105                   0.0  0.0   \n",
       "6                0.194471    0.842105                   0.0  1.0   \n",
       "7                0.194471    0.842105                   0.0  4.0   \n",
       "8                0.194471    0.842105                   0.0  2.0   \n",
       "9                0.194471    0.842105                   0.0  1.0   \n",
       "\n",
       "   Social drinker  Social smoker    Height  Body mass index  \\\n",
       "0             1.0            0.0  0.272727         0.578947   \n",
       "1             1.0            0.0  0.454545         0.631579   \n",
       "2             1.0            0.0  0.212121         0.631579   \n",
       "3             1.0            1.0  0.151515         0.263158   \n",
       "4             1.0            0.0  0.272727         0.578947   \n",
       "5             1.0            0.0  0.212121         0.631579   \n",
       "6             1.0            0.0  0.272727         0.421053   \n",
       "7             1.0            0.0  0.151515         0.210526   \n",
       "8             1.0            0.0  1.000000         0.315789   \n",
       "9             0.0            0.0  0.272727         0.526316   \n",
       "\n",
       "   Absenteeism time in hours  \n",
       "0                   4.000000  \n",
       "1                   0.000000  \n",
       "2                   2.000000  \n",
       "3                   4.000000  \n",
       "4                   2.000000  \n",
       "5                   2.000009  \n",
       "6                   8.000000  \n",
       "7                   4.000000  \n",
       "8                   3.279386  \n",
       "9                   8.000000  "
      ]
     },
     "execution_count": 66,
     "metadata": {},
     "output_type": "execute_result"
    }
   ],
   "source": [
    "emp.head(10)"
   ]
  },
  {
   "cell_type": "code",
   "execution_count": 69,
   "metadata": {},
   "outputs": [
    {
     "data": {
      "image/png": "[encoded data removed]",
      "text/plain": [
       "<Figure size 432x288 with 1 Axes>"
      ]
     },
     "metadata": {
      "needs_background": "light"
     },
     "output_type": "display_data"
    }
   ],
   "source": [
    "emp1.groupby('Month of absence')['Absenteeism time in hours'].mean().plot.bar()\n",
    "#df_obsent.groupby(col)[col_y].reset_index().sort_values(col_y).plot.bar()\n",
    "plt.xlabel('Month of absence') # Set text for the x axis\n",
    "plt.ylabel('Absenteeism time in hours')# Set text for y axis\n",
    "\n",
    "plt.show()"
   ]
  },
  {
   "cell_type": "code",
   "execution_count": 70,
   "metadata": {},
   "outputs": [
    {
     "data": {
      "text/plain": [
       "Month of absence\n",
       "0.0     0.000000\n",
       "1.0     3.479657\n",
       "2.0     3.805617\n",
       "3.0     5.295066\n",
       "4.0     4.347695\n",
       "5.0     4.113187\n",
       "6.0     4.522225\n",
       "7.0     5.621510\n",
       "8.0     4.621287\n",
       "9.0     3.767692\n",
       "10.0    4.246114\n",
       "10.0    3.000000\n",
       "11.0    4.151946\n",
       "12.0    4.070523\n",
       "Name: Absenteeism time in hours, dtype: float64"
      ]
     },
     "execution_count": 70,
     "metadata": {},
     "output_type": "execute_result"
    }
   ],
   "source": [
    "###2. Question  \n",
    "##How much losses every month can we project in 2011 if same trend of absenteeism continues?\n",
    "#Mean of Absenteesim time in hours \n",
    "emp1.groupby('Month of absence')['Absenteeism time in hours'].mean()"
   ]
  },
  {
   "cell_type": "code",
   "execution_count": 72,
   "metadata": {},
   "outputs": [],
   "source": [
    "# loss per month \n",
    "#Work loss = (Workload*Absenteeism time)/Service time\n",
    "loss = emp1[['Month of absence','Service time','Work load Average/day ','Absenteeism time in hours']]"
   ]
  },
  {
   "cell_type": "code",
   "execution_count": 73,
   "metadata": {},
   "outputs": [
    {
     "name": "stderr",
     "output_type": "stream",
     "text": [
      "C:\\Users\\vimal\\Anaconda3\\lib\\site-packages\\ipykernel_launcher.py:1: SettingWithCopyWarning: \n",
      "A value is trying to be set on a copy of a slice from a DataFrame.\n",
      "Try using .loc[row_indexer,col_indexer] = value instead\n",
      "\n",
      "See the caveats in the documentation: http://pandas.pydata.org/pandas-docs/stable/indexing.html#indexing-view-versus-copy\n",
      "  \"\"\"Entry point for launching an IPython kernel.\n"
     ]
    }
   ],
   "source": [
    "loss[\"loss_month\"] = (loss['Work load Average/day ']*loss['Absenteeism time in hours'])/loss['Service time']"
   ]
  },
  {
   "cell_type": "code",
   "execution_count": 75,
   "metadata": {},
   "outputs": [
    {
     "data": {
      "text/plain": [
       "<bound method NDFrame.head of      Month of absence  Service time  Work load Average/day   \\\n",
       "0                 7.0          13.0                239554.0   \n",
       "1                 7.0          18.0                239554.0   \n",
       "2                 7.0          18.0                239554.0   \n",
       "3                 7.0          14.0                239554.0   \n",
       "4                 7.0          13.0                239554.0   \n",
       "5                 7.0          18.0                239554.0   \n",
       "6                 7.0           3.0                239554.0   \n",
       "7                 7.0          11.0                239554.0   \n",
       "8                 7.0          14.0                239554.0   \n",
       "9                 7.0          14.0                239554.0   \n",
       "10                7.0          11.0                239554.0   \n",
       "11                7.0          11.0                239554.0   \n",
       "12                7.0          11.0                239554.0   \n",
       "13                7.0          18.0                239554.0   \n",
       "14                7.0          18.0                239554.0   \n",
       "15                7.0          16.0                239554.0   \n",
       "16                7.0          18.0                239554.0   \n",
       "17                7.0          18.0                239554.0   \n",
       "18                7.0          13.0                239554.0   \n",
       "19                8.0          14.0                205917.0   \n",
       "20                8.0           4.0                205917.0   \n",
       "21                8.0          18.0                205917.0   \n",
       "22                8.0           3.0                205917.0   \n",
       "23                8.0          11.0                205917.0   \n",
       "24                8.0          13.0                205917.0   \n",
       "25                8.0           3.0                205917.0   \n",
       "26                8.0          13.0                205917.0   \n",
       "27                8.0           6.0                205917.0   \n",
       "28                8.0          13.0                205917.0   \n",
       "29                8.0          18.0                205917.0   \n",
       "..                ...           ...                     ...   \n",
       "710               6.0          11.0                275089.0   \n",
       "711               6.0          18.0                275089.0   \n",
       "712               6.0           1.0                275089.0   \n",
       "713               6.0           9.0                275089.0   \n",
       "714               6.0          12.0                275089.0   \n",
       "715               6.0           8.0                275089.0   \n",
       "716               6.0          18.0                275089.0   \n",
       "717               6.0           9.0                275089.0   \n",
       "718               6.0          12.0                275089.0   \n",
       "719               6.0           9.0                275089.0   \n",
       "720               6.0          10.0                275089.0   \n",
       "721               6.0           1.0                275089.0   \n",
       "722               6.0          10.0                275089.0   \n",
       "723               6.0          10.0                275089.0   \n",
       "724               6.0           1.0                275089.0   \n",
       "725               7.0          13.0                264604.0   \n",
       "726               7.0           1.0                264604.0   \n",
       "727               7.0          16.0                264604.0   \n",
       "728               7.0          10.0                264604.0   \n",
       "729               7.0          16.0                264604.0   \n",
       "730               7.0          13.0                264604.0   \n",
       "731               7.0          10.0                264604.0   \n",
       "732               7.0           3.0                264604.0   \n",
       "733               7.0           9.0                264604.0   \n",
       "734               7.0          12.0                264604.0   \n",
       "735               7.0          13.0                264604.0   \n",
       "736               7.0          14.0                264604.0   \n",
       "737               0.0          13.0                271219.0   \n",
       "738               0.0          14.0                271219.0   \n",
       "739               0.0          14.0                271219.0   \n",
       "\n",
       "     Absenteeism time in hours    loss_month  \n",
       "0                     4.000000  7.370892e+04  \n",
       "1                     0.000000  0.000000e+00  \n",
       "2                     2.000000  2.661711e+04  \n",
       "3                     4.000000  6.844400e+04  \n",
       "4                     2.000000  3.685446e+04  \n",
       "5                     2.000009  2.661724e+04  \n",
       "6                     8.000000  6.388107e+05  \n",
       "7                     4.000000  8.711055e+04  \n",
       "8                     3.279386  5.611358e+04  \n",
       "9                     8.000000  1.368880e+05  \n",
       "10                    8.000000  1.742211e+05  \n",
       "11                    8.000000  1.742211e+05  \n",
       "12                    8.000000  1.742211e+05  \n",
       "13                    1.000000  1.330856e+04  \n",
       "14                    4.000000  5.323422e+04  \n",
       "15                    4.320570  6.468812e+04  \n",
       "16                    2.000000  2.661711e+04  \n",
       "17                    8.000000  1.064684e+05  \n",
       "18                    8.000000  1.474178e+05  \n",
       "19                    2.000000  2.941671e+04  \n",
       "20                   12.098633  6.228285e+05  \n",
       "21                    1.000000  1.143983e+04  \n",
       "22                    3.660310  2.512400e+05  \n",
       "23                    4.000000  7.487891e+04  \n",
       "24                    8.000000  1.267182e+05  \n",
       "25                    7.000000  4.804730e+05  \n",
       "26                    1.000000  1.583977e+04  \n",
       "27                    4.000000  1.372780e+05  \n",
       "28                    8.000000  1.267182e+05  \n",
       "29                    2.000000  2.287967e+04  \n",
       "..                         ...           ...  \n",
       "710                   8.000000  2.000647e+05  \n",
       "711                   3.000000  4.584817e+04  \n",
       "712                   8.000000  2.200712e+06  \n",
       "713                   2.000000  6.113089e+04  \n",
       "714                   0.000000  0.000000e+00  \n",
       "715                   0.000000  0.000000e+00  \n",
       "716                   3.000000  4.584817e+04  \n",
       "717                   2.000000  6.113089e+04  \n",
       "718                   2.000000  4.584817e+04  \n",
       "719                   3.000000  9.169633e+04  \n",
       "720                   3.000000  8.252670e+04  \n",
       "721                   8.000000  2.200712e+06  \n",
       "722                   2.000000  5.501780e+04  \n",
       "723                   3.000000  8.252670e+04  \n",
       "724                   3.000000  8.252670e+05  \n",
       "725                   4.000000  8.141662e+04  \n",
       "726                   2.000000  5.292080e+05  \n",
       "727                   8.000000  1.323020e+05  \n",
       "728                   4.000000  1.058416e+05  \n",
       "729                   7.996601  1.322458e+05  \n",
       "730                  16.000000  3.256665e+05  \n",
       "731                   2.000000  5.292080e+04  \n",
       "732                   8.000000  7.056107e+05  \n",
       "733                   8.000000  2.352036e+05  \n",
       "734                   7.735386  1.705678e+05  \n",
       "735                   8.000000  1.628332e+05  \n",
       "736                   4.000000  7.560114e+04  \n",
       "737                   0.000000  0.000000e+00  \n",
       "738                   0.000000  0.000000e+00  \n",
       "739                   0.000000  0.000000e+00  \n",
       "\n",
       "[740 rows x 5 columns]>"
      ]
     },
     "execution_count": 75,
     "metadata": {},
     "output_type": "execute_result"
    }
   ],
   "source": [
    "loss.head"
   ]
  },
  {
   "cell_type": "code",
   "execution_count": 76,
   "metadata": {},
   "outputs": [
    {
     "name": "stderr",
     "output_type": "stream",
     "text": [
      "C:\\Users\\vimal\\Anaconda3\\lib\\site-packages\\ipykernel_launcher.py:1: SettingWithCopyWarning: \n",
      "A value is trying to be set on a copy of a slice from a DataFrame.\n",
      "Try using .loc[row_indexer,col_indexer] = value instead\n",
      "\n",
      "See the caveats in the documentation: http://pandas.pydata.org/pandas-docs/stable/indexing.html#indexing-view-versus-copy\n",
      "  \"\"\"Entry point for launching an IPython kernel.\n"
     ]
    }
   ],
   "source": [
    "loss[\"loss_month\"] = (loss['Work load Average/day ']*loss['Absenteeism time in hours'])/loss['Service time']"
   ]
  },
  {
   "cell_type": "code",
   "execution_count": 77,
   "metadata": {},
   "outputs": [
    {
     "name": "stderr",
     "output_type": "stream",
     "text": [
      "C:\\Users\\vimal\\Anaconda3\\lib\\site-packages\\ipykernel_launcher.py:1: SettingWithCopyWarning: \n",
      "A value is trying to be set on a copy of a slice from a DataFrame.\n",
      "Try using .loc[row_indexer,col_indexer] = value instead\n",
      "\n",
      "See the caveats in the documentation: http://pandas.pydata.org/pandas-docs/stable/indexing.html#indexing-view-versus-copy\n",
      "  \"\"\"Entry point for launching an IPython kernel.\n"
     ]
    }
   ],
   "source": [
    "loss[\"loss_month\"] = np.round(loss[\"loss_month\"]).astype('int64')"
   ]
  },
  {
   "cell_type": "code",
   "execution_count": 78,
   "metadata": {},
   "outputs": [
    {
     "data": {
      "text/html": [
       "<div>\n",
       "<style scoped>\n",
       "    .dataframe tbody tr th:only-of-type {\n",
       "        vertical-align: middle;\n",
       "    }\n",
       "\n",
       "    .dataframe tbody tr th {\n",
       "        vertical-align: top;\n",
       "    }\n",
       "\n",
       "    .dataframe thead th {\n",
       "        text-align: right;\n",
       "    }\n",
       "</style>\n",
       "<table border=\"1\" class=\"dataframe\">\n",
       "  <thead>\n",
       "    <tr style=\"text-align: right;\">\n",
       "      <th></th>\n",
       "      <th>Month of absence</th>\n",
       "      <th>Service time</th>\n",
       "      <th>Work load Average/day</th>\n",
       "      <th>Absenteeism time in hours</th>\n",
       "      <th>loss_month</th>\n",
       "    </tr>\n",
       "  </thead>\n",
       "  <tbody>\n",
       "    <tr>\n",
       "      <th>0</th>\n",
       "      <td>7.0</td>\n",
       "      <td>13.0</td>\n",
       "      <td>239554.0</td>\n",
       "      <td>4.000000</td>\n",
       "      <td>73709</td>\n",
       "    </tr>\n",
       "    <tr>\n",
       "      <th>1</th>\n",
       "      <td>7.0</td>\n",
       "      <td>18.0</td>\n",
       "      <td>239554.0</td>\n",
       "      <td>0.000000</td>\n",
       "      <td>0</td>\n",
       "    </tr>\n",
       "    <tr>\n",
       "      <th>2</th>\n",
       "      <td>7.0</td>\n",
       "      <td>18.0</td>\n",
       "      <td>239554.0</td>\n",
       "      <td>2.000000</td>\n",
       "      <td>26617</td>\n",
       "    </tr>\n",
       "    <tr>\n",
       "      <th>3</th>\n",
       "      <td>7.0</td>\n",
       "      <td>14.0</td>\n",
       "      <td>239554.0</td>\n",
       "      <td>4.000000</td>\n",
       "      <td>68444</td>\n",
       "    </tr>\n",
       "    <tr>\n",
       "      <th>4</th>\n",
       "      <td>7.0</td>\n",
       "      <td>13.0</td>\n",
       "      <td>239554.0</td>\n",
       "      <td>2.000000</td>\n",
       "      <td>36854</td>\n",
       "    </tr>\n",
       "    <tr>\n",
       "      <th>5</th>\n",
       "      <td>7.0</td>\n",
       "      <td>18.0</td>\n",
       "      <td>239554.0</td>\n",
       "      <td>2.000009</td>\n",
       "      <td>26617</td>\n",
       "    </tr>\n",
       "    <tr>\n",
       "      <th>6</th>\n",
       "      <td>7.0</td>\n",
       "      <td>3.0</td>\n",
       "      <td>239554.0</td>\n",
       "      <td>8.000000</td>\n",
       "      <td>638811</td>\n",
       "    </tr>\n",
       "    <tr>\n",
       "      <th>7</th>\n",
       "      <td>7.0</td>\n",
       "      <td>11.0</td>\n",
       "      <td>239554.0</td>\n",
       "      <td>4.000000</td>\n",
       "      <td>87111</td>\n",
       "    </tr>\n",
       "    <tr>\n",
       "      <th>8</th>\n",
       "      <td>7.0</td>\n",
       "      <td>14.0</td>\n",
       "      <td>239554.0</td>\n",
       "      <td>3.279386</td>\n",
       "      <td>56114</td>\n",
       "    </tr>\n",
       "    <tr>\n",
       "      <th>9</th>\n",
       "      <td>7.0</td>\n",
       "      <td>14.0</td>\n",
       "      <td>239554.0</td>\n",
       "      <td>8.000000</td>\n",
       "      <td>136888</td>\n",
       "    </tr>\n",
       "  </tbody>\n",
       "</table>\n",
       "</div>"
      ],
      "text/plain": [
       "   Month of absence  Service time  Work load Average/day   \\\n",
       "0               7.0          13.0                239554.0   \n",
       "1               7.0          18.0                239554.0   \n",
       "2               7.0          18.0                239554.0   \n",
       "3               7.0          14.0                239554.0   \n",
       "4               7.0          13.0                239554.0   \n",
       "5               7.0          18.0                239554.0   \n",
       "6               7.0           3.0                239554.0   \n",
       "7               7.0          11.0                239554.0   \n",
       "8               7.0          14.0                239554.0   \n",
       "9               7.0          14.0                239554.0   \n",
       "\n",
       "   Absenteeism time in hours  loss_month  \n",
       "0                   4.000000       73709  \n",
       "1                   0.000000           0  \n",
       "2                   2.000000       26617  \n",
       "3                   4.000000       68444  \n",
       "4                   2.000000       36854  \n",
       "5                   2.000009       26617  \n",
       "6                   8.000000      638811  \n",
       "7                   4.000000       87111  \n",
       "8                   3.279386       56114  \n",
       "9                   8.000000      136888  "
      ]
     },
     "execution_count": 78,
     "metadata": {},
     "output_type": "execute_result"
    }
   ],
   "source": [
    "loss.head(10)"
   ]
  },
  {
   "cell_type": "code",
   "execution_count": 79,
   "metadata": {},
   "outputs": [],
   "source": [
    "No_absent = loss[loss['Month of absence'] == 0]['loss_month'].sum()\n",
    "January = loss[loss['Month of absence'] == 1]['loss_month'].sum()\n",
    "February = loss[loss['Month of absence'] == 2]['loss_month'].sum()\n",
    "March = loss[loss['Month of absence'] == 3]['loss_month'].sum()\n",
    "April = loss[loss['Month of absence'] == 4]['loss_month'].sum()\n",
    "May = loss[loss['Month of absence'] == 5]['loss_month'].sum()\n",
    "June = loss[loss['Month of absence'] == 6]['loss_month'].sum()\n",
    "July = loss[loss['Month of absence'] == 7]['loss_month'].sum()\n",
    "August = loss[loss['Month of absence'] == 8]['loss_month'].sum()\n",
    "September = loss[loss['Month of absence'] == 9]['loss_month'].sum()\n",
    "October = loss[loss['Month of absence'] == 10]['loss_month'].sum()\n",
    "November = loss[loss['Month of absence'] == 11]['loss_month'].sum()\n",
    "December = loss[loss['Month of absence'] == 12]['loss_month'].sum()"
   ]
  },
  {
   "cell_type": "code",
   "execution_count": 80,
   "metadata": {},
   "outputs": [],
   "source": [
    "data1 = {'No Absent': No_absent, 'Janaury': January,'Febraury': February,'March': March,\n",
    "       'April': April, 'May': May,'June': June,'July': July,\n",
    "       'August': August,'September': September,'October': October,'November': November,\n",
    "       'December': December}"
   ]
  },
  {
   "cell_type": "code",
   "execution_count": 83,
   "metadata": {},
   "outputs": [],
   "source": [
    "workloss = pd.DataFrame.from_dict(data1,orient = 'index')"
   ]
  },
  {
   "cell_type": "markdown",
   "metadata": {},
   "source": [
    "workloss.rename(index = str, columns={0:\"Workload loss pr month\"})"
   ]
  },
  {
   "cell_type": "code",
   "execution_count": 84,
   "metadata": {},
   "outputs": [
    {
     "data": {
      "text/html": [
       "<div>\n",
       "<style scoped>\n",
       "    .dataframe tbody tr th:only-of-type {\n",
       "        vertical-align: middle;\n",
       "    }\n",
       "\n",
       "    .dataframe tbody tr th {\n",
       "        vertical-align: top;\n",
       "    }\n",
       "\n",
       "    .dataframe thead th {\n",
       "        text-align: right;\n",
       "    }\n",
       "</style>\n",
       "<table border=\"1\" class=\"dataframe\">\n",
       "  <thead>\n",
       "    <tr style=\"text-align: right;\">\n",
       "      <th></th>\n",
       "      <th>Workload loss pr month</th>\n",
       "    </tr>\n",
       "  </thead>\n",
       "  <tbody>\n",
       "    <tr>\n",
       "      <th>No Absent</th>\n",
       "      <td>0</td>\n",
       "    </tr>\n",
       "    <tr>\n",
       "      <th>Janaury</th>\n",
       "      <td>4730607</td>\n",
       "    </tr>\n",
       "    <tr>\n",
       "      <th>Febraury</th>\n",
       "      <td>7953840</td>\n",
       "    </tr>\n",
       "    <tr>\n",
       "      <th>March</th>\n",
       "      <td>11082061</td>\n",
       "    </tr>\n",
       "    <tr>\n",
       "      <th>April</th>\n",
       "      <td>6213617</td>\n",
       "    </tr>\n",
       "    <tr>\n",
       "      <th>May</th>\n",
       "      <td>7241316</td>\n",
       "    </tr>\n",
       "    <tr>\n",
       "      <th>June</th>\n",
       "      <td>11263511</td>\n",
       "    </tr>\n",
       "    <tr>\n",
       "      <th>July</th>\n",
       "      <td>11743319</td>\n",
       "    </tr>\n",
       "    <tr>\n",
       "      <th>August</th>\n",
       "      <td>6988009</td>\n",
       "    </tr>\n",
       "    <tr>\n",
       "      <th>September</th>\n",
       "      <td>4619421</td>\n",
       "    </tr>\n",
       "    <tr>\n",
       "      <th>October</th>\n",
       "      <td>7634054</td>\n",
       "    </tr>\n",
       "    <tr>\n",
       "      <th>November</th>\n",
       "      <td>6869976</td>\n",
       "    </tr>\n",
       "    <tr>\n",
       "      <th>December</th>\n",
       "      <td>7844064</td>\n",
       "    </tr>\n",
       "  </tbody>\n",
       "</table>\n",
       "</div>"
      ],
      "text/plain": [
       "           Workload loss pr month\n",
       "No Absent                       0\n",
       "Janaury                   4730607\n",
       "Febraury                  7953840\n",
       "March                    11082061\n",
       "April                     6213617\n",
       "May                       7241316\n",
       "June                     11263511\n",
       "July                     11743319\n",
       "August                    6988009\n",
       "September                 4619421\n",
       "October                   7634054\n",
       "November                  6869976\n",
       "December                  7844064"
      ]
     },
     "execution_count": 84,
     "metadata": {},
     "output_type": "execute_result"
    }
   ],
   "source": [
    "workloss.rename(index = str, columns={0:\"Workload loss pr month\"})"
   ]
  },
  {
   "cell_type": "code",
   "execution_count": null,
   "metadata": {},
   "outputs": [],
   "source": []
  }
 ],
 "metadata": {
  "kernelspec": {
   "display_name": "Python 3",
   "language": "python",
   "name": "python3"
  },
  "language_info": {
   "codemirror_mode": {
    "name": "ipython",
    "version": 3
   },
   "file_extension": ".py",
   "mimetype": "text/x-python",
   "name": "python",
   "nbconvert_exporter": "python",
   "pygments_lexer": "ipython3",
   "version": "3.6.8"
  }
 },
 "nbformat": 4,
 "nbformat_minor": 2
}
